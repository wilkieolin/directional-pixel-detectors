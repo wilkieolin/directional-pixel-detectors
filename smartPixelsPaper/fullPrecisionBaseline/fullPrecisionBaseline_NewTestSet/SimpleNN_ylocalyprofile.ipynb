{
 "cells": [
  {
   "cell_type": "code",
   "execution_count": 1,
   "id": "3a8391fa-659e-448d-bc55-8f6c207a2ffb",
   "metadata": {},
   "outputs": [],
   "source": [
    "from sklearn.model_selection import train_test_split\n",
    "from sklearn.metrics import mean_squared_error\n",
    "from sklearn.preprocessing import StandardScaler\n",
    "from sklearn.metrics import confusion_matrix\n",
    "from sklearn.metrics import classification_report\n",
    "import tensorflow as tf\n",
    "from tensorflow.keras import datasets, layers, models\n",
    "import keras\n",
    "from keras.models import Sequential\n",
    "from keras.layers import Dense, Dropout, Flatten\n",
    "from keras.callbacks import CSVLogger\n",
    "from keras.callbacks import EarlyStopping\n",
    "import matplotlib.pyplot as plt\n",
    "import numpy as np\n",
    "import pandas as pd\n",
    "from pandas import read_csv\n",
    "import math\n",
    "from tensorflow.keras.optimizers import Adam"
   ]
  },
  {
   "cell_type": "markdown",
   "id": "12edc65b",
   "metadata": {},
   "source": [
    "# Data preparation"
   ]
  },
  {
   "cell_type": "code",
   "execution_count": 2,
   "id": "841a9415",
   "metadata": {},
   "outputs": [],
   "source": [
    "data_path = \"/Users/wilkie/data/smart_pixels_13/unflipped/\""
   ]
  },
  {
   "cell_type": "code",
   "execution_count": 3,
   "id": "12180123-80b5-44e4-bd55-606f9fefc5d1",
   "metadata": {},
   "outputs": [],
   "source": [
    "pq1 = pd.read_parquet(data_path + \"recon2D_d17501.parquet\")"
   ]
  },
  {
   "cell_type": "code",
   "execution_count": 4,
   "id": "5c4d8337",
   "metadata": {},
   "outputs": [],
   "source": [
    "def take_yprofile(data):\n",
    "    data = np.array(data)\n",
    "    #reshape to 2D\n",
    "    data = np.reshape(data, (13, 21))\n",
    "    #take the y-profile\n",
    "    profile = np.sum(data, axis=1)\n",
    "    return profile\n"
   ]
  },
  {
   "cell_type": "code",
   "execution_count": 5,
   "id": "4f6d4142",
   "metadata": {},
   "outputs": [
    {
     "data": {
      "text/plain": [
       "<matplotlib.collections.PolyCollection at 0x29c53cbb0>"
      ]
     },
     "execution_count": 5,
     "metadata": {},
     "output_type": "execute_result"
    },
    {
     "data": {
      "image/png": "[encoded data removed]",
      "text/plain": [
       "<Figure size 432x288 with 1 Axes>"
      ]
     },
     "metadata": {
      "needs_background": "light"
     },
     "output_type": "display_data"
    }
   ],
   "source": [
    "arr = np.array(pq1.iloc[0])\n",
    "plt.pcolor(np.reshape(arr, (13, 21)))"
   ]
  },
  {
   "cell_type": "code",
   "execution_count": 6,
   "id": "f6ee7695",
   "metadata": {},
   "outputs": [],
   "source": [
    "prof = take_yprofile(pq1.iloc[0])"
   ]
  },
  {
   "cell_type": "code",
   "execution_count": 7,
   "id": "868c6a08",
   "metadata": {},
   "outputs": [
    {
     "data": {
      "text/plain": [
       "[<matplotlib.lines.Line2D at 0x29c5cffa0>]"
      ]
     },
     "execution_count": 7,
     "metadata": {},
     "output_type": "execute_result"
    },
    {
     "data": {
      "image/png": "[encoded data removed]",
      "text/plain": [
       "<Figure size 432x288 with 1 Axes>"
      ]
     },
     "metadata": {
      "needs_background": "light"
     },
     "output_type": "display_data"
    }
   ],
   "source": [
    "plt.plot(prof)"
   ]
  },
  {
   "cell_type": "code",
   "execution_count": 8,
   "id": "fc332102",
   "metadata": {},
   "outputs": [],
   "source": [
    "pq1_truth = pd.read_parquet(data_path + \"labels_d17501.parquet\")"
   ]
  },
  {
   "cell_type": "code",
   "execution_count": 9,
   "id": "81b889a0",
   "metadata": {},
   "outputs": [
    {
     "data": {
      "text/html": [
       "<div>\n",
       "<style scoped>\n",
       "    .dataframe tbody tr th:only-of-type {\n",
       "        vertical-align: middle;\n",
       "    }\n",
       "\n",
       "    .dataframe tbody tr th {\n",
       "        vertical-align: top;\n",
       "    }\n",
       "\n",
       "    .dataframe thead th {\n",
       "        text-align: right;\n",
       "    }\n",
       "</style>\n",
       "<table border=\"1\" class=\"dataframe\">\n",
       "  <thead>\n",
       "    <tr style=\"text-align: right;\">\n",
       "      <th></th>\n",
       "      <th>x-entry</th>\n",
       "      <th>y-entry</th>\n",
       "      <th>z-entry</th>\n",
       "      <th>n_x</th>\n",
       "      <th>n_y</th>\n",
       "      <th>n_z</th>\n",
       "      <th>number_eh_pairs</th>\n",
       "      <th>y-local</th>\n",
       "      <th>pt</th>\n",
       "      <th>cotAlpha</th>\n",
       "      <th>cotBeta</th>\n",
       "      <th>y-midplane</th>\n",
       "      <th>x-midplane</th>\n",
       "    </tr>\n",
       "  </thead>\n",
       "  <tbody>\n",
       "    <tr>\n",
       "      <th>0</th>\n",
       "      <td>-48.731285</td>\n",
       "      <td>2.872706</td>\n",
       "      <td>100.0</td>\n",
       "      <td>-0.239328</td>\n",
       "      <td>-0.141072</td>\n",
       "      <td>-1.238494</td>\n",
       "      <td>17510.0</td>\n",
       "      <td>-3.83818</td>\n",
       "      <td>-1.2465</td>\n",
       "      <td>0.193241</td>\n",
       "      <td>0.113906</td>\n",
       "      <td>-2.822598</td>\n",
       "      <td>-58.393342</td>\n",
       "    </tr>\n",
       "    <tr>\n",
       "      <th>1</th>\n",
       "      <td>-175.338928</td>\n",
       "      <td>25.938915</td>\n",
       "      <td>100.0</td>\n",
       "      <td>0.809492</td>\n",
       "      <td>-0.089265</td>\n",
       "      <td>-0.325481</td>\n",
       "      <td>17308.0</td>\n",
       "      <td>-6.57575</td>\n",
       "      <td>0.3375</td>\n",
       "      <td>-2.487064</td>\n",
       "      <td>0.274256</td>\n",
       "      <td>12.226133</td>\n",
       "      <td>-50.985740</td>\n",
       "    </tr>\n",
       "    <tr>\n",
       "      <th>2</th>\n",
       "      <td>177.558731</td>\n",
       "      <td>9.934172</td>\n",
       "      <td>100.0</td>\n",
       "      <td>-0.312144</td>\n",
       "      <td>-0.010484</td>\n",
       "      <td>-0.115023</td>\n",
       "      <td>43849.0</td>\n",
       "      <td>-7.47091</td>\n",
       "      <td>-0.1155</td>\n",
       "      <td>2.713753</td>\n",
       "      <td>0.091147</td>\n",
       "      <td>5.376823</td>\n",
       "      <td>41.871086</td>\n",
       "    </tr>\n",
       "    <tr>\n",
       "      <th>3</th>\n",
       "      <td>-418.620941</td>\n",
       "      <td>-10.610765</td>\n",
       "      <td>100.0</td>\n",
       "      <td>6.665171</td>\n",
       "      <td>-0.050723</td>\n",
       "      <td>-0.797890</td>\n",
       "      <td>66669.0</td>\n",
       "      <td>-2.55476</td>\n",
       "      <td>-0.7995</td>\n",
       "      <td>-8.353496</td>\n",
       "      <td>0.063571</td>\n",
       "      <td>-13.789336</td>\n",
       "      <td>-0.946136</td>\n",
       "    </tr>\n",
       "    <tr>\n",
       "      <th>4</th>\n",
       "      <td>-346.192657</td>\n",
       "      <td>0.553267</td>\n",
       "      <td>100.0</td>\n",
       "      <td>5.683409</td>\n",
       "      <td>-0.086886</td>\n",
       "      <td>-1.020810</td>\n",
       "      <td>51912.0</td>\n",
       "      <td>-2.04856</td>\n",
       "      <td>1.0245</td>\n",
       "      <td>-5.567548</td>\n",
       "      <td>0.085115</td>\n",
       "      <td>-3.702471</td>\n",
       "      <td>-67.815241</td>\n",
       "    </tr>\n",
       "    <tr>\n",
       "      <th>...</th>\n",
       "      <td>...</td>\n",
       "      <td>...</td>\n",
       "      <td>...</td>\n",
       "      <td>...</td>\n",
       "      <td>...</td>\n",
       "      <td>...</td>\n",
       "      <td>...</td>\n",
       "      <td>...</td>\n",
       "      <td>...</td>\n",
       "      <td>...</td>\n",
       "      <td>...</td>\n",
       "      <td>...</td>\n",
       "      <td>...</td>\n",
       "    </tr>\n",
       "    <tr>\n",
       "      <th>49967</th>\n",
       "      <td>48.692581</td>\n",
       "      <td>-14.837375</td>\n",
       "      <td>100.0</td>\n",
       "      <td>-0.620369</td>\n",
       "      <td>0.008676</td>\n",
       "      <td>-0.264358</td>\n",
       "      <td>29911.0</td>\n",
       "      <td>-0.95797</td>\n",
       "      <td>-0.2645</td>\n",
       "      <td>2.346700</td>\n",
       "      <td>-0.032819</td>\n",
       "      <td>-13.196418</td>\n",
       "      <td>-68.642434</td>\n",
       "    </tr>\n",
       "    <tr>\n",
       "      <th>49968</th>\n",
       "      <td>42.802876</td>\n",
       "      <td>4.589038</td>\n",
       "      <td>100.0</td>\n",
       "      <td>0.006787</td>\n",
       "      <td>-0.041867</td>\n",
       "      <td>-0.095746</td>\n",
       "      <td>15935.0</td>\n",
       "      <td>-7.43155</td>\n",
       "      <td>0.1045</td>\n",
       "      <td>-0.070885</td>\n",
       "      <td>0.437272</td>\n",
       "      <td>-17.274539</td>\n",
       "      <td>46.347149</td>\n",
       "    </tr>\n",
       "    <tr>\n",
       "      <th>49969</th>\n",
       "      <td>-301.871185</td>\n",
       "      <td>-10.112600</td>\n",
       "      <td>100.0</td>\n",
       "      <td>2.982382</td>\n",
       "      <td>0.074379</td>\n",
       "      <td>-0.573699</td>\n",
       "      <td>76986.0</td>\n",
       "      <td>4.80660</td>\n",
       "      <td>0.5785</td>\n",
       "      <td>-5.198514</td>\n",
       "      <td>-0.129648</td>\n",
       "      <td>-3.630194</td>\n",
       "      <td>-41.945510</td>\n",
       "    </tr>\n",
       "    <tr>\n",
       "      <th>49970</th>\n",
       "      <td>372.125732</td>\n",
       "      <td>-14.596362</td>\n",
       "      <td>100.0</td>\n",
       "      <td>-0.350652</td>\n",
       "      <td>0.024985</td>\n",
       "      <td>-0.050675</td>\n",
       "      <td>51510.0</td>\n",
       "      <td>4.44579</td>\n",
       "      <td>-0.0565</td>\n",
       "      <td>6.919625</td>\n",
       "      <td>-0.493044</td>\n",
       "      <td>10.055833</td>\n",
       "      <td>26.144479</td>\n",
       "    </tr>\n",
       "    <tr>\n",
       "      <th>49971</th>\n",
       "      <td>-118.922668</td>\n",
       "      <td>-27.683563</td>\n",
       "      <td>100.0</td>\n",
       "      <td>1.117887</td>\n",
       "      <td>0.167277</td>\n",
       "      <td>-0.844084</td>\n",
       "      <td>19420.0</td>\n",
       "      <td>6.58229</td>\n",
       "      <td>0.8605</td>\n",
       "      <td>-1.324379</td>\n",
       "      <td>-0.198176</td>\n",
       "      <td>-17.774774</td>\n",
       "      <td>-52.703725</td>\n",
       "    </tr>\n",
       "  </tbody>\n",
       "</table>\n",
       "<p>49972 rows × 13 columns</p>\n",
       "</div>"
      ],
      "text/plain": [
       "          x-entry    y-entry  z-entry       n_x       n_y       n_z  \\\n",
       "0      -48.731285   2.872706    100.0 -0.239328 -0.141072 -1.238494   \n",
       "1     -175.338928  25.938915    100.0  0.809492 -0.089265 -0.325481   \n",
       "2      177.558731   9.934172    100.0 -0.312144 -0.010484 -0.115023   \n",
       "3     -418.620941 -10.610765    100.0  6.665171 -0.050723 -0.797890   \n",
       "4     -346.192657   0.553267    100.0  5.683409 -0.086886 -1.020810   \n",
       "...           ...        ...      ...       ...       ...       ...   \n",
       "49967   48.692581 -14.837375    100.0 -0.620369  0.008676 -0.264358   \n",
       "49968   42.802876   4.589038    100.0  0.006787 -0.041867 -0.095746   \n",
       "49969 -301.871185 -10.112600    100.0  2.982382  0.074379 -0.573699   \n",
       "49970  372.125732 -14.596362    100.0 -0.350652  0.024985 -0.050675   \n",
       "49971 -118.922668 -27.683563    100.0  1.117887  0.167277 -0.844084   \n",
       "\n",
       "       number_eh_pairs  y-local      pt  cotAlpha   cotBeta  y-midplane  \\\n",
       "0              17510.0 -3.83818 -1.2465  0.193241  0.113906   -2.822598   \n",
       "1              17308.0 -6.57575  0.3375 -2.487064  0.274256   12.226133   \n",
       "2              43849.0 -7.47091 -0.1155  2.713753  0.091147    5.376823   \n",
       "3              66669.0 -2.55476 -0.7995 -8.353496  0.063571  -13.789336   \n",
       "4              51912.0 -2.04856  1.0245 -5.567548  0.085115   -3.702471   \n",
       "...                ...      ...     ...       ...       ...         ...   \n",
       "49967          29911.0 -0.95797 -0.2645  2.346700 -0.032819  -13.196418   \n",
       "49968          15935.0 -7.43155  0.1045 -0.070885  0.437272  -17.274539   \n",
       "49969          76986.0  4.80660  0.5785 -5.198514 -0.129648   -3.630194   \n",
       "49970          51510.0  4.44579 -0.0565  6.919625 -0.493044   10.055833   \n",
       "49971          19420.0  6.58229  0.8605 -1.324379 -0.198176  -17.774774   \n",
       "\n",
       "       x-midplane  \n",
       "0      -58.393342  \n",
       "1      -50.985740  \n",
       "2       41.871086  \n",
       "3       -0.946136  \n",
       "4      -67.815241  \n",
       "...           ...  \n",
       "49967  -68.642434  \n",
       "49968   46.347149  \n",
       "49969  -41.945510  \n",
       "49970   26.144479  \n",
       "49971  -52.703725  \n",
       "\n",
       "[49972 rows x 13 columns]"
      ]
     },
     "execution_count": 9,
     "metadata": {},
     "output_type": "execute_result"
    }
   ],
   "source": [
    "pq1_truth"
   ]
  },
  {
   "cell_type": "code",
   "execution_count": 10,
   "id": "d9105c87",
   "metadata": {},
   "outputs": [],
   "source": [
    "def get_training(charge_file, truth_file):\n",
    "    xs = []\n",
    "    ys = []\n",
    "\n",
    "    for idx, row in charge_file.iterrows():\n",
    "        profile = take_yprofile(row)\n",
    "        truth = truth_file.iloc[idx]\n",
    "        y_local = np.array(truth[\"y-local\"])\n",
    "        pt = np.array(truth[\"pt\"])\n",
    "\n",
    "        x = np.concatenate((profile, [y_local]))\n",
    "        y = pt\n",
    "\n",
    "        xs.append(x)\n",
    "        ys.append(y)\n",
    "    \n",
    "    return np.array(xs), np.array(ys)\n",
    "\n",
    "        "
   ]
  },
  {
   "cell_type": "code",
   "execution_count": 11,
   "id": "15813a48",
   "metadata": {},
   "outputs": [],
   "source": [
    "prof, pt = get_training(pq1, pq1_truth)"
   ]
  },
  {
   "cell_type": "code",
   "execution_count": 42,
   "id": "b2bed1bb",
   "metadata": {},
   "outputs": [],
   "source": [
    "def build_set(train_start, train_stop):\n",
    "    n_files = train_stop - train_start\n",
    "\n",
    "    train_files_charge = [\"recon2D_d\" + str(i) + \".parquet\" for i in range(train_start, train_stop)]\n",
    "    train_files_truth = [\"labels_d\" + str(i) + \".parquet\" for i in range(train_start, train_stop)]\n",
    "\n",
    "    data_files_train = [pd.read_parquet(data_path + f) for f in train_files_charge]\n",
    "    truth_files_train = [pd.read_parquet(data_path + f) for f in train_files_truth]\n",
    "\n",
    "    train_data = [get_training(data_files_train[i], truth_files_train[i]) for i in range(1, n_files)]\n",
    "\n",
    "    X_train = np.concatenate([d[0] for d in train_data], axis=0)\n",
    "    y_train = np.concatenate([d[1] for d in train_data], axis=0)\n",
    "    y_train = np.reshape(y_train, (-1, 1))\n",
    "\n",
    "    return X_train, y_train\n"
   ]
  },
  {
   "cell_type": "code",
   "execution_count": 43,
   "id": "947af787",
   "metadata": {},
   "outputs": [],
   "source": [
    "train_start = 17501\n",
    "train_stop = 17510"
   ]
  },
  {
   "cell_type": "code",
   "execution_count": 84,
   "id": "e9ba8b56",
   "metadata": {},
   "outputs": [],
   "source": [
    "X_train, y_pt_train = build_set(17501, 17510)"
   ]
  },
  {
   "cell_type": "code",
   "execution_count": 82,
   "id": "8331547e",
   "metadata": {},
   "outputs": [
    {
     "data": {
      "text/plain": [
       "(399800, 14)"
      ]
     },
     "execution_count": 82,
     "metadata": {},
     "output_type": "execute_result"
    }
   ],
   "source": [
    "X_train.shape"
   ]
  },
  {
   "cell_type": "code",
   "execution_count": 86,
   "id": "2c47e13a",
   "metadata": {},
   "outputs": [
    {
     "data": {
      "text/plain": [
       "(399800, 1)"
      ]
     },
     "execution_count": 86,
     "metadata": {},
     "output_type": "execute_result"
    }
   ],
   "source": [
    "y_pt_train.shape"
   ]
  },
  {
   "cell_type": "code",
   "execution_count": 47,
   "id": "b9b1897f",
   "metadata": {},
   "outputs": [],
   "source": [
    "#original is 652,160 samples"
   ]
  },
  {
   "cell_type": "code",
   "execution_count": 85,
   "id": "849122ea",
   "metadata": {},
   "outputs": [],
   "source": [
    "X_test, y_pt_test = build_set(17511, 17513)"
   ]
  },
  {
   "cell_type": "code",
   "execution_count": 73,
   "id": "c99b0c89",
   "metadata": {},
   "outputs": [
    {
     "data": {
      "text/plain": [
       "(49978, 14)"
      ]
     },
     "execution_count": 73,
     "metadata": {},
     "output_type": "execute_result"
    }
   ],
   "source": [
    "X_test.shape"
   ]
  },
  {
   "cell_type": "code",
   "execution_count": 88,
   "id": "67c99395",
   "metadata": {},
   "outputs": [
    {
     "data": {
      "text/plain": [
       "(49978, 1)"
      ]
     },
     "execution_count": 88,
     "metadata": {},
     "output_type": "execute_result"
    }
   ],
   "source": [
    "y_pt_test.shape"
   ]
  },
  {
   "cell_type": "code",
   "execution_count": 113,
   "id": "f707ac2d",
   "metadata": {},
   "outputs": [],
   "source": [
    "X_test_huge, y_pt_test_huge = build_set(17514, 17534)"
   ]
  },
  {
   "cell_type": "code",
   "execution_count": 89,
   "id": "2daf96b5",
   "metadata": {},
   "outputs": [],
   "source": [
    "def get_truth(momenta, threshold):\n",
    "    return 1.0 * (momenta > threshold) + 2.0 * (momenta < -1 * threshold)"
   ]
  },
  {
   "cell_type": "code",
   "execution_count": 90,
   "id": "2b40c220",
   "metadata": {},
   "outputs": [],
   "source": [
    "threshold = 1.0"
   ]
  },
  {
   "cell_type": "code",
   "execution_count": 93,
   "id": "751c36cf",
   "metadata": {},
   "outputs": [],
   "source": [
    "y_train = get_truth(y_pt_train, threshold)"
   ]
  },
  {
   "cell_type": "code",
   "execution_count": 94,
   "id": "37be1aa8",
   "metadata": {},
   "outputs": [],
   "source": [
    "y_test = get_truth(y_pt_test, threshold)"
   ]
  },
  {
   "cell_type": "code",
   "execution_count": 114,
   "id": "0b2a7b46",
   "metadata": {},
   "outputs": [],
   "source": [
    "y_test_huge = get_truth(y_pt_test_huge, threshold)"
   ]
  },
  {
   "cell_type": "code",
   "execution_count": 95,
   "id": "bf1a97b0",
   "metadata": {},
   "outputs": [
    {
     "data": {
      "text/plain": [
       "(array([340715.,      0.,      0.,      0.,      0.,  29668.,      0.,\n",
       "             0.,      0.,  29417.]),\n",
       " array([0. , 0.2, 0.4, 0.6, 0.8, 1. , 1.2, 1.4, 1.6, 1.8, 2. ]),\n",
       " <BarContainer object of 10 artists>)"
      ]
     },
     "execution_count": 95,
     "metadata": {},
     "output_type": "execute_result"
    },
    {
     "data": {
      "image/png": "[encoded data removed]",
      "text/plain": [
       "<Figure size 432x288 with 1 Axes>"
      ]
     },
     "metadata": {
      "needs_background": "light"
     },
     "output_type": "display_data"
    }
   ],
   "source": [
    "plt.hist(y_train)"
   ]
  },
  {
   "cell_type": "code",
   "execution_count": 96,
   "id": "db38ef25",
   "metadata": {},
   "outputs": [],
   "source": [
    "#original is 3,597,877 test samples"
   ]
  },
  {
   "cell_type": "markdown",
   "id": "93b8fc12",
   "metadata": {},
   "source": [
    "# Training"
   ]
  },
  {
   "cell_type": "code",
   "execution_count": 97,
   "id": "f150ba39-5d91-4633-b6cd-b1ecd0b3ed91",
   "metadata": {},
   "outputs": [
    {
     "name": "stdout",
     "output_type": "stream",
     "text": [
      "(399800, 14) (49978, 14) (399800, 1) (49978, 1)\n"
     ]
    }
   ],
   "source": [
    "# X_train = df1.values\n",
    "# X_test = df3.values\n",
    "\n",
    "# y_train = df2.values\n",
    "# y_test = df4.values\n",
    "# #X_train, X_test, y_train, y_test = train_test_split(X,y,test_size = 0.20, random_state = 0)\n",
    "\n",
    "print(X_train.shape, X_test.shape, y_train.shape, y_test.shape)"
   ]
  },
  {
   "cell_type": "code",
   "execution_count": 98,
   "id": "23e343bd-a2e8-427a-b00e-c0f778074fad",
   "metadata": {},
   "outputs": [],
   "source": [
    "scaler = StandardScaler()\n",
    "X_train = scaler.fit_transform(X_train.reshape(-1, X_train.shape[-1])).reshape(X_train.shape)\n",
    "xform = lambda x: scaler.transform(x.reshape(-1, x.shape[-1])).reshape(x.shape)\n",
    "X_test = xform(X_test)\n",
    "X_test_huge = xform(X_test_huge)"
   ]
  },
  {
   "cell_type": "code",
   "execution_count": 99,
   "id": "15339e98-b6af-41cd-b568-16e2b6ecb03e",
   "metadata": {},
   "outputs": [
    {
     "data": {
      "text/plain": [
       "array([[-0.09065452, -0.16387905, -0.37947249, ..., -0.06253624,\n",
       "        -0.05523033,  1.08292286],\n",
       "       [-0.09065452, -0.16387905, -0.37818124, ..., -0.06253624,\n",
       "        -0.05523033, -1.3539787 ],\n",
       "       [-0.09065452, -0.16387905, -0.37947249, ..., -0.06253624,\n",
       "        -0.05523033, -1.15795256],\n",
       "       ...,\n",
       "       [-0.09065452, -0.16387905, -0.37918196, ..., -0.06253624,\n",
       "        -0.05523033,  1.54038564],\n",
       "       [-0.09065452, -0.16387905, -0.37947249, ..., -0.06253624,\n",
       "        -0.05523033,  0.60751058],\n",
       "       [-0.09065452, -0.16387905,  0.74908584, ..., -0.06253624,\n",
       "        -0.05523033, -0.82711593]])"
      ]
     },
     "execution_count": 99,
     "metadata": {},
     "output_type": "execute_result"
    }
   ],
   "source": [
    "X_test"
   ]
  },
  {
   "cell_type": "code",
   "execution_count": 100,
   "id": "5af05867-d2f2-4be1-9bd1-f179487a47ee",
   "metadata": {},
   "outputs": [
    {
     "name": "stdout",
     "output_type": "stream",
     "text": [
      "Model: \"sequential_1\"\n",
      "_________________________________________________________________\n",
      " Layer (type)                Output Shape              Param #   \n",
      "=================================================================\n",
      " flatten_1 (Flatten)         (None, 14)                0         \n",
      "                                                                 \n",
      " dense_2 (Dense)             (None, 128)               1920      \n",
      "                                                                 \n",
      " dense_3 (Dense)             (None, 3)                 387       \n",
      "                                                                 \n",
      "=================================================================\n",
      "Total params: 2,307\n",
      "Trainable params: 2,307\n",
      "Non-trainable params: 0\n",
      "_________________________________________________________________\n"
     ]
    }
   ],
   "source": [
    "model = tf.keras.models.Sequential([\n",
    "  tf.keras.layers.Flatten(input_shape=(14,)),\n",
    "  tf.keras.layers.Dense(128, activation='relu'),\n",
    "  tf.keras.layers.Dense(3, activation='softmax')\n",
    "])\n",
    "\n",
    "model.compile(optimizer=Adam(),\n",
    "              loss=keras.losses.SparseCategoricalCrossentropy(from_logits=False), # default from_logits=False\n",
    "              metrics=[keras.metrics.SparseCategoricalAccuracy()])\n",
    "\n",
    "model.summary()\n",
    "\n"
   ]
  },
  {
   "cell_type": "code",
   "execution_count": 101,
   "id": "4720ce89-2eae-4016-a7c2-955ae4bbaae9",
   "metadata": {},
   "outputs": [
    {
     "name": "stdout",
     "output_type": "stream",
     "text": [
      "Epoch 1/200\n",
      "313/313 [==============================] - 3s 7ms/step - loss: 0.5514 - sparse_categorical_accuracy: 0.8497 - val_loss: 0.5260 - val_sparse_categorical_accuracy: 0.8531\n",
      "Epoch 2/200\n",
      "313/313 [==============================] - 2s 7ms/step - loss: 0.5248 - sparse_categorical_accuracy: 0.8520 - val_loss: 0.5201 - val_sparse_categorical_accuracy: 0.8531\n",
      "Epoch 3/200\n",
      "313/313 [==============================] - 2s 7ms/step - loss: 0.5207 - sparse_categorical_accuracy: 0.8520 - val_loss: 0.5172 - val_sparse_categorical_accuracy: 0.8531\n",
      "Epoch 4/200\n",
      "313/313 [==============================] - 2s 7ms/step - loss: 0.5183 - sparse_categorical_accuracy: 0.8520 - val_loss: 0.5155 - val_sparse_categorical_accuracy: 0.8531\n",
      "Epoch 5/200\n",
      "313/313 [==============================] - 2s 7ms/step - loss: 0.5166 - sparse_categorical_accuracy: 0.8520 - val_loss: 0.5143 - val_sparse_categorical_accuracy: 0.8531\n",
      "Epoch 6/200\n",
      "313/313 [==============================] - 2s 7ms/step - loss: 0.5155 - sparse_categorical_accuracy: 0.8520 - val_loss: 0.5128 - val_sparse_categorical_accuracy: 0.8531\n",
      "Epoch 7/200\n",
      "313/313 [==============================] - 2s 7ms/step - loss: 0.5143 - sparse_categorical_accuracy: 0.8520 - val_loss: 0.5124 - val_sparse_categorical_accuracy: 0.8530\n",
      "Epoch 8/200\n",
      "313/313 [==============================] - 2s 7ms/step - loss: 0.5134 - sparse_categorical_accuracy: 0.8520 - val_loss: 0.5114 - val_sparse_categorical_accuracy: 0.8531\n",
      "Epoch 9/200\n",
      "313/313 [==============================] - 2s 7ms/step - loss: 0.5125 - sparse_categorical_accuracy: 0.8520 - val_loss: 0.5103 - val_sparse_categorical_accuracy: 0.8531\n",
      "Epoch 10/200\n",
      "313/313 [==============================] - 2s 7ms/step - loss: 0.5118 - sparse_categorical_accuracy: 0.8520 - val_loss: 0.5097 - val_sparse_categorical_accuracy: 0.8531\n",
      "Epoch 11/200\n",
      "313/313 [==============================] - 2s 7ms/step - loss: 0.5113 - sparse_categorical_accuracy: 0.8519 - val_loss: 0.5096 - val_sparse_categorical_accuracy: 0.8531\n",
      "Epoch 12/200\n",
      "313/313 [==============================] - 2s 7ms/step - loss: 0.5105 - sparse_categorical_accuracy: 0.8520 - val_loss: 0.5083 - val_sparse_categorical_accuracy: 0.8530\n",
      "Epoch 13/200\n",
      "313/313 [==============================] - 2s 7ms/step - loss: 0.5100 - sparse_categorical_accuracy: 0.8520 - val_loss: 0.5079 - val_sparse_categorical_accuracy: 0.8531\n",
      "Epoch 14/200\n",
      "313/313 [==============================] - 2s 7ms/step - loss: 0.5095 - sparse_categorical_accuracy: 0.8519 - val_loss: 0.5093 - val_sparse_categorical_accuracy: 0.8529\n",
      "Epoch 15/200\n",
      "313/313 [==============================] - 2s 7ms/step - loss: 0.5091 - sparse_categorical_accuracy: 0.8519 - val_loss: 0.5074 - val_sparse_categorical_accuracy: 0.8530\n",
      "Epoch 16/200\n",
      "313/313 [==============================] - 2s 7ms/step - loss: 0.5086 - sparse_categorical_accuracy: 0.8520 - val_loss: 0.5079 - val_sparse_categorical_accuracy: 0.8531\n",
      "Epoch 17/200\n",
      "313/313 [==============================] - 2s 7ms/step - loss: 0.5083 - sparse_categorical_accuracy: 0.8520 - val_loss: 0.5063 - val_sparse_categorical_accuracy: 0.8531\n",
      "Epoch 18/200\n",
      "313/313 [==============================] - 2s 7ms/step - loss: 0.5080 - sparse_categorical_accuracy: 0.8519 - val_loss: 0.5065 - val_sparse_categorical_accuracy: 0.8530\n",
      "Epoch 19/200\n",
      "313/313 [==============================] - 2s 7ms/step - loss: 0.5075 - sparse_categorical_accuracy: 0.8520 - val_loss: 0.5060 - val_sparse_categorical_accuracy: 0.8529\n",
      "Epoch 20/200\n",
      "313/313 [==============================] - 2s 7ms/step - loss: 0.5073 - sparse_categorical_accuracy: 0.8520 - val_loss: 0.5066 - val_sparse_categorical_accuracy: 0.8524\n",
      "Epoch 21/200\n",
      "313/313 [==============================] - 2s 7ms/step - loss: 0.5070 - sparse_categorical_accuracy: 0.8519 - val_loss: 0.5061 - val_sparse_categorical_accuracy: 0.8527\n"
     ]
    }
   ],
   "source": [
    "es = EarlyStopping(monitor='val_sparse_categorical_accuracy', \n",
    "                                   mode='max', # don't minimize the accuracy!\n",
    "                                   patience=20,\n",
    "                                   restore_best_weights=True)\n",
    "\n",
    "history = model.fit(X_train,\n",
    "                    y_train,\n",
    "                    callbacks=[es],\n",
    "                    epochs=200, \n",
    "                    batch_size=1024,\n",
    "                    validation_split=0.2,\n",
    "                    shuffle=True,\n",
    "                    verbose=1)\n",
    "\n"
   ]
  },
  {
   "cell_type": "code",
   "execution_count": 102,
   "id": "0bb4c82a-85d8-4e6c-9396-5ea7ec79e0c4",
   "metadata": {},
   "outputs": [
    {
     "data": {
      "image/png": "[encoded data removed]",
      "text/plain": [
       "<Figure size 432x288 with 1 Axes>"
      ]
     },
     "metadata": {
      "needs_background": "light"
     },
     "output_type": "display_data"
    }
   ],
   "source": [
    "history_dict = history.history\n",
    "loss_values = history_dict['loss'] \n",
    "val_loss_values = history_dict['val_loss'] \n",
    "epochs = range(1, len(loss_values) + 1) \n",
    "plt.plot(epochs, loss_values, 'bo', label='Training loss')\n",
    "plt.plot(epochs, val_loss_values, 'orange', label='Validation loss')\n",
    "plt.title('Training and validation loss')\n",
    "plt.xlabel('Epochs')\n",
    "plt.ylabel('Loss')\n",
    "plt.legend()\n",
    "plt.savefig('loss.png')"
   ]
  },
  {
   "cell_type": "code",
   "execution_count": 103,
   "id": "0c4da634-9a07-4808-93f1-afc1428c08d2",
   "metadata": {},
   "outputs": [
    {
     "data": {
      "image/png": "[encoded data removed]",
      "text/plain": [
       "<Figure size 432x288 with 1 Axes>"
      ]
     },
     "metadata": {
      "needs_background": "light"
     },
     "output_type": "display_data"
    }
   ],
   "source": [
    "acc = history.history['sparse_categorical_accuracy']\n",
    "val_acc = history.history['val_sparse_categorical_accuracy']\n",
    "epochs = range(1, len(acc) + 1)\n",
    "plt.plot(epochs, acc, 'bo', label='Training accuracy')\n",
    "plt.plot(epochs, val_acc, 'orange', label='Validation accuracy')\n",
    "plt.title('Training and validation accuracy')\n",
    "plt.xlabel('Epochs')\n",
    "plt.ylabel('Accuracy')\n",
    "plt.legend()\n",
    "#np.max(val_acc)\n",
    "plt.savefig('accuracy.png')\n",
    "plt.show()"
   ]
  },
  {
   "cell_type": "code",
   "execution_count": 135,
   "id": "1378681c-a72c-4380-84bd-9fcf5b782038",
   "metadata": {},
   "outputs": [
    {
     "name": "stdout",
     "output_type": "stream",
     "text": [
      "1562/1562 [==============================] - 3s 2ms/step\n"
     ]
    }
   ],
   "source": [
    "preds = model.predict(X_test) \n",
    "predictionsFiles =np.argmax(preds, axis=1)"
   ]
  },
  {
   "cell_type": "code",
   "execution_count": 105,
   "id": "2efccd12",
   "metadata": {},
   "outputs": [
    {
     "data": {
      "text/plain": [
       "(array([    0.,     0.,     0.,     0.,     0., 49978.,     0.,     0.,\n",
       "            0.,     0.]),\n",
       " array([-0.5, -0.4, -0.3, -0.2, -0.1,  0. ,  0.1,  0.2,  0.3,  0.4,  0.5]),\n",
       " <BarContainer object of 10 artists>)"
      ]
     },
     "execution_count": 105,
     "metadata": {},
     "output_type": "execute_result"
    },
    {
     "data": {
      "image/png": "[encoded data removed]",
      "text/plain": [
       "<Figure size 432x288 with 1 Axes>"
      ]
     },
     "metadata": {
      "needs_background": "light"
     },
     "output_type": "display_data"
    }
   ],
   "source": [
    "plt.hist(predictionsFiles)"
   ]
  },
  {
   "cell_type": "code",
   "execution_count": 106,
   "id": "091327bd-28ed-4570-8f00-9315e209bf7e",
   "metadata": {},
   "outputs": [],
   "source": [
    "#pd.DataFrame(predictionsFiles).to_csv(\"predictionsFiles.csv\",header='predict', index=False)"
   ]
  },
  {
   "cell_type": "code",
   "execution_count": 107,
   "id": "5fa23cc3-3f30-4cd4-85e5-ae6064869378",
   "metadata": {},
   "outputs": [],
   "source": [
    "#pd.DataFrame(y_test).to_csv(\"true.csv\",header='true', index=False)"
   ]
  },
  {
   "cell_type": "code",
   "execution_count": 108,
   "id": "caf53631-bfae-4276-9400-30bbf6bc5490",
   "metadata": {},
   "outputs": [
    {
     "name": "stdout",
     "output_type": "stream",
     "text": [
      "Test loss: 0.5242260694503784\n",
      "Test accuracy: 0.8532954454421997\n"
     ]
    }
   ],
   "source": [
    "score = model.evaluate(X_test, y_test, verbose=0)\n",
    "print(\"Test loss:\", score[0])\n",
    "print(\"Test accuracy:\", score[1])"
   ]
  },
  {
   "cell_type": "code",
   "execution_count": 109,
   "id": "9edf8385-5618-4176-aba4-f1fc0c459df7",
   "metadata": {},
   "outputs": [
    {
     "name": "stdout",
     "output_type": "stream",
     "text": [
      "Confusion matrix:\n",
      "[[42646     0     0]\n",
      " [ 3619     0     0]\n",
      " [ 3713     0     0]]\n"
     ]
    },
    {
     "data": {
      "image/png": "[encoded data removed]",
      "text/plain": [
       "<Figure size 432x288 with 2 Axes>"
      ]
     },
     "metadata": {
      "needs_background": "light"
     },
     "output_type": "display_data"
    }
   ],
   "source": [
    "from sklearn import datasets, svm, metrics\n",
    "disp = metrics.ConfusionMatrixDisplay.from_predictions(y_test, predictionsFiles)\n",
    "disp.figure_.suptitle(\"Multiclassifier Confusion Matrix\")\n",
    "print(f\"Confusion matrix:\\n{disp.confusion_matrix}\")\n",
    "plt.savefig('confusionMatrix.png')\n",
    "plt.show()"
   ]
  },
  {
   "cell_type": "code",
   "execution_count": 115,
   "id": "d52de1e2",
   "metadata": {},
   "outputs": [
    {
     "data": {
      "text/plain": [
       "(949495, 14)"
      ]
     },
     "execution_count": 115,
     "metadata": {},
     "output_type": "execute_result"
    }
   ],
   "source": [
    "X_test_huge.shape"
   ]
  },
  {
   "cell_type": "code",
   "execution_count": 117,
   "id": "197f974f",
   "metadata": {},
   "outputs": [
    {
     "name": "stdout",
     "output_type": "stream",
     "text": [
      "29672/29672 [==============================] - 52s 2ms/step\n"
     ]
    },
    {
     "ename": "NameError",
     "evalue": "name 'preds_huge' is not defined",
     "output_type": "error",
     "traceback": [
      "\u001b[0;31m---------------------------------------------------------------------------\u001b[0m",
      "\u001b[0;31mNameError\u001b[0m                                 Traceback (most recent call last)",
      "\u001b[1;32m/Users/wilkie/code/directional-pixel-detectors/smartPixelsPaper/fullPrecisionBaseline/fullPrecisionBaseline_NewTestSet/SimpleNN_ylocalyprofile.ipynb Cell 45\u001b[0m in \u001b[0;36m2\n\u001b[1;32m      <a href='vscode-notebook-cell:/Users/wilkie/code/directional-pixel-detectors/smartPixelsPaper/fullPrecisionBaseline/fullPrecisionBaseline_NewTestSet/SimpleNN_ylocalyprofile.ipynb#Y140sZmlsZQ%3D%3D?line=0'>1</a>\u001b[0m preds \u001b[39m=\u001b[39m model\u001b[39m.\u001b[39mpredict(X_test_huge) \n\u001b[0;32m----> <a href='vscode-notebook-cell:/Users/wilkie/code/directional-pixel-detectors/smartPixelsPaper/fullPrecisionBaseline/fullPrecisionBaseline_NewTestSet/SimpleNN_ylocalyprofile.ipynb#Y140sZmlsZQ%3D%3D?line=1'>2</a>\u001b[0m predictionsFiles_huge \u001b[39m=\u001b[39mnp\u001b[39m.\u001b[39margmax(preds_huge, axis\u001b[39m=\u001b[39m\u001b[39m1\u001b[39m)\n",
      "\u001b[0;31mNameError\u001b[0m: name 'preds_huge' is not defined"
     ]
    }
   ],
   "source": [
    "preds_huge = model.predict(X_test_huge) \n",
    "predictionsFiles_huge =np.argmax(preds, axis=1)"
   ]
  },
  {
   "cell_type": "code",
   "execution_count": 121,
   "id": "f2ff0880",
   "metadata": {},
   "outputs": [
    {
     "name": "stdout",
     "output_type": "stream",
     "text": [
      "Confusion matrix:\n",
      "[[795557  14003    124]\n",
      " [ 69672    355      7]\n",
      " [ 69523    243     11]]\n"
     ]
    },
    {
     "data": {
      "image/png": "[encoded data removed]",
      "text/plain": [
       "<Figure size 432x288 with 2 Axes>"
      ]
     },
     "metadata": {
      "needs_background": "light"
     },
     "output_type": "display_data"
    }
   ],
   "source": [
    "disp = metrics.ConfusionMatrixDisplay.from_predictions(y_test_huge, predictionsFiles_huge)\n",
    "disp.figure_.suptitle(\"Multiclassifier Confusion Matrix\")\n",
    "print(f\"Confusion matrix:\\n{disp.confusion_matrix}\")\n",
    "plt.savefig('confusionMatrix.png')\n",
    "plt.show()"
   ]
  },
  {
   "cell_type": "code",
   "execution_count": 123,
   "id": "81aa2728",
   "metadata": {},
   "outputs": [],
   "source": [
    "from sklearn.metrics import RocCurveDisplay"
   ]
  },
  {
   "cell_type": "code",
   "execution_count": 127,
   "id": "3844a37f",
   "metadata": {},
   "outputs": [],
   "source": [
    "from sklearn.preprocessing import LabelBinarizer"
   ]
  },
  {
   "cell_type": "code",
   "execution_count": 129,
   "id": "82a1ea87",
   "metadata": {},
   "outputs": [],
   "source": [
    "label_binarizer = LabelBinarizer().fit(y_test)"
   ]
  },
  {
   "cell_type": "code",
   "execution_count": 131,
   "id": "dbe242ca",
   "metadata": {},
   "outputs": [],
   "source": [
    "y_onehot_huge = label_binarizer.transform(y_test_huge)"
   ]
  },
  {
   "cell_type": "code",
   "execution_count": 154,
   "id": "97c29f76",
   "metadata": {},
   "outputs": [
    {
     "data": {
      "text/plain": [
       "(949495, 3)"
      ]
     },
     "execution_count": 154,
     "metadata": {},
     "output_type": "execute_result"
    }
   ],
   "source": [
    "y_onehot_huge.shape"
   ]
  },
  {
   "cell_type": "code",
   "execution_count": 159,
   "id": "14236a12",
   "metadata": {},
   "outputs": [],
   "source": [
    "def ROC_OvR(preds, labels):\n",
    "    classes = np.unique(labels)\n",
    "    n_classes = len(classes)\n",
    "\n",
    "    #go through each class to build a one-versus-rest ROC\n",
    "    scores = []\n",
    "    truth = []\n",
    "\n",
    "    for c in range(1, n_classes):\n",
    "        in_class = 1.0 *(labels == c)\n",
    "        score = preds[:,c]\n",
    "\n",
    "        scores.append(score)\n",
    "        truth.append(in_class)\n",
    "\n",
    "    scores = np.array(scores).ravel()\n",
    "    truth = np.array(truth).ravel()\n",
    "\n",
    "    return truth, scores\n"
   ]
  },
  {
   "cell_type": "code",
   "execution_count": 161,
   "id": "9a03374a",
   "metadata": {},
   "outputs": [],
   "source": [
    "t, s = ROC_OvR(preds, y_test)"
   ]
  },
  {
   "cell_type": "code",
   "execution_count": 162,
   "id": "72307971",
   "metadata": {},
   "outputs": [
    {
     "data": {
      "text/plain": [
       "<sklearn.metrics._plot.roc_curve.RocCurveDisplay at 0x3a7926fa0>"
      ]
     },
     "execution_count": 162,
     "metadata": {},
     "output_type": "execute_result"
    },
    {
     "data": {
      "image/png": "[encoded data removed]",
      "text/plain": [
       "<Figure size 432x288 with 1 Axes>"
      ]
     },
     "metadata": {
      "needs_background": "light"
     },
     "output_type": "display_data"
    }
   ],
   "source": [
    "RocCurveDisplay.from_predictions(\n",
    "    t,\n",
    "    s,\n",
    "    plot_chance_level=True\n",
    ")"
   ]
  },
  {
   "cell_type": "code",
   "execution_count": null,
   "id": "e9b1f2d1",
   "metadata": {},
   "outputs": [],
   "source": []
  },
  {
   "cell_type": "code",
   "execution_count": 110,
   "id": "b1a5edf1-6d90-4596-a678-bf043fb8e856",
   "metadata": {
    "tags": []
   },
   "outputs": [],
   "source": [
    "#model.save('my_model.keras')"
   ]
  },
  {
   "cell_type": "code",
   "execution_count": 111,
   "id": "376b3c33-d86d-4ea7-9d89-cfbaa99776b0",
   "metadata": {
    "tags": []
   },
   "outputs": [],
   "source": [
    "#model.save('my_model.h5')"
   ]
  },
  {
   "cell_type": "code",
   "execution_count": 22,
   "id": "afd7dfc7-b533-4f94-8e58-451637889f38",
   "metadata": {
    "tags": []
   },
   "outputs": [
    {
     "name": "stdout",
     "output_type": "stream",
     "text": [
      "112434/112434 - 87s - loss: 0.5151 - sparse_categorical_accuracy: 0.7878 - 87s/epoch - 778us/step\n",
      "Restored model, accuracy: 78.78%\n"
     ]
    }
   ],
   "source": [
    "#loss, acc = new_model.evaluate(X_test, y_test, verbose=2)\n",
    "#print('Restored model, accuracy: {:5.2f}%'.format(100 * acc))"
   ]
  },
  {
   "cell_type": "code",
   "execution_count": null,
   "id": "274f3895-5140-4d6c-b4ef-966d7e96d5dc",
   "metadata": {},
   "outputs": [],
   "source": []
  }
 ],
 "metadata": {
  "kernelspec": {
   "display_name": "tf",
   "language": "python",
   "name": "python3"
  },
  "language_info": {
   "codemirror_mode": {
    "name": "ipython",
    "version": 3
   },
   "file_extension": ".py",
   "mimetype": "text/x-python",
   "name": "python",
   "nbconvert_exporter": "python",
   "pygments_lexer": "ipython3",
   "version": "3.9.13"
  }
 },
 "nbformat": 4,
 "nbformat_minor": 5
}
