{
 "cells": [
  {
   "cell_type": "code",
   "execution_count": 1,
   "id": "3a8391fa-659e-448d-bc55-8f6c207a2ffb",
   "metadata": {},
   "outputs": [],
   "source": [
    "from sklearn.model_selection import train_test_split\n",
    "from sklearn.metrics import mean_squared_error\n",
    "from sklearn.preprocessing import StandardScaler\n",
    "from sklearn.metrics import confusion_matrix\n",
    "from sklearn.metrics import classification_report\n",
    "import tensorflow as tf\n",
    "from tensorflow.keras import datasets, layers, models\n",
    "import keras\n",
    "from keras.models import Sequential\n",
    "from keras.layers import Dense, Dropout, Flatten\n",
    "from keras.callbacks import CSVLogger\n",
    "from keras.callbacks import EarlyStopping\n",
    "import matplotlib.pyplot as plt\n",
    "import numpy as np\n",
    "import pandas as pd\n",
    "from pandas import read_csv\n",
    "import math\n",
    "from tensorflow.keras.optimizers import Adam"
   ]
  },
  {
   "cell_type": "markdown",
   "id": "12edc65b",
   "metadata": {},
   "source": [
    "# Data preparation"
   ]
  },
  {
   "cell_type": "code",
   "execution_count": 2,
   "id": "841a9415",
   "metadata": {},
   "outputs": [],
   "source": [
    "data_path = \"/Users/wilkie/data/smart_pixels_13/resampled/\""
   ]
  },
  {
   "cell_type": "code",
   "execution_count": 3,
   "id": "12180123-80b5-44e4-bd55-606f9fefc5d1",
   "metadata": {},
   "outputs": [],
   "source": [
    "pq1 = pd.read_parquet(data_path + \"pixels.parquet\")"
   ]
  },
  {
   "cell_type": "code",
   "execution_count": 4,
   "id": "5c4d8337",
   "metadata": {},
   "outputs": [],
   "source": [
    "def take_yprofile(data):\n",
    "    data = np.array(data)\n",
    "    #reshape to 2D\n",
    "    data = np.reshape(data, (13, 21))\n",
    "    #take the y-profile\n",
    "    profile = np.sum(data, axis=1)\n",
    "    return profile\n"
   ]
  },
  {
   "cell_type": "code",
   "execution_count": 6,
   "id": "4f6d4142",
   "metadata": {},
   "outputs": [
    {
     "data": {
      "text/plain": [
       "<matplotlib.collections.PolyCollection at 0x297a71910>"
      ]
     },
     "execution_count": 6,
     "metadata": {},
     "output_type": "execute_result"
    },
    {
     "data": {
      "image/png": "[encoded data removed]",
      "text/plain": [
       "<Figure size 432x288 with 1 Axes>"
      ]
     },
     "metadata": {
      "needs_background": "light"
     },
     "output_type": "display_data"
    }
   ],
   "source": [
    "arr = np.array(pq1.iloc[5])\n",
    "plt.pcolor(np.reshape(arr, (13, 21)))"
   ]
  },
  {
   "cell_type": "code",
   "execution_count": 7,
   "id": "f6ee7695",
   "metadata": {},
   "outputs": [],
   "source": [
    "prof = take_yprofile(pq1.iloc[0])"
   ]
  },
  {
   "cell_type": "code",
   "execution_count": 8,
   "id": "868c6a08",
   "metadata": {},
   "outputs": [
    {
     "data": {
      "text/plain": [
       "[<matplotlib.lines.Line2D at 0x297c21640>]"
      ]
     },
     "execution_count": 8,
     "metadata": {},
     "output_type": "execute_result"
    },
    {
     "data": {
      "image/png": "[encoded data removed]",
      "text/plain": [
       "<Figure size 432x288 with 1 Axes>"
      ]
     },
     "metadata": {
      "needs_background": "light"
     },
     "output_type": "display_data"
    }
   ],
   "source": [
    "plt.plot(prof)"
   ]
  },
  {
   "cell_type": "code",
   "execution_count": 9,
   "id": "fc332102",
   "metadata": {},
   "outputs": [],
   "source": [
    "pq1_truth = pd.read_parquet(data_path + \"momenta.parquet\")"
   ]
  },
  {
   "cell_type": "code",
   "execution_count": 10,
   "id": "81b889a0",
   "metadata": {},
   "outputs": [
    {
     "data": {
      "text/html": [
       "<div>\n",
       "<style scoped>\n",
       "    .dataframe tbody tr th:only-of-type {\n",
       "        vertical-align: middle;\n",
       "    }\n",
       "\n",
       "    .dataframe tbody tr th {\n",
       "        vertical-align: top;\n",
       "    }\n",
       "\n",
       "    .dataframe thead th {\n",
       "        text-align: right;\n",
       "    }\n",
       "</style>\n",
       "<table border=\"1\" class=\"dataframe\">\n",
       "  <thead>\n",
       "    <tr style=\"text-align: right;\">\n",
       "      <th></th>\n",
       "      <th>pt</th>\n",
       "    </tr>\n",
       "  </thead>\n",
       "  <tbody>\n",
       "    <tr>\n",
       "      <th>0</th>\n",
       "      <td>-1.2465</td>\n",
       "    </tr>\n",
       "    <tr>\n",
       "      <th>1</th>\n",
       "      <td>0.3375</td>\n",
       "    </tr>\n",
       "    <tr>\n",
       "      <th>2</th>\n",
       "      <td>-0.1155</td>\n",
       "    </tr>\n",
       "    <tr>\n",
       "      <th>3</th>\n",
       "      <td>-0.7995</td>\n",
       "    </tr>\n",
       "    <tr>\n",
       "      <th>4</th>\n",
       "      <td>1.0245</td>\n",
       "    </tr>\n",
       "    <tr>\n",
       "      <th>...</th>\n",
       "      <td>...</td>\n",
       "    </tr>\n",
       "    <tr>\n",
       "      <th>142815</th>\n",
       "      <td>-0.8895</td>\n",
       "    </tr>\n",
       "    <tr>\n",
       "      <th>142816</th>\n",
       "      <td>-1.0505</td>\n",
       "    </tr>\n",
       "    <tr>\n",
       "      <th>142817</th>\n",
       "      <td>1.1725</td>\n",
       "    </tr>\n",
       "    <tr>\n",
       "      <th>142818</th>\n",
       "      <td>1.8035</td>\n",
       "    </tr>\n",
       "    <tr>\n",
       "      <th>142819</th>\n",
       "      <td>-1.9205</td>\n",
       "    </tr>\n",
       "  </tbody>\n",
       "</table>\n",
       "<p>142820 rows × 1 columns</p>\n",
       "</div>"
      ],
      "text/plain": [
       "            pt\n",
       "0      -1.2465\n",
       "1       0.3375\n",
       "2      -0.1155\n",
       "3      -0.7995\n",
       "4       1.0245\n",
       "...        ...\n",
       "142815 -0.8895\n",
       "142816 -1.0505\n",
       "142817  1.1725\n",
       "142818  1.8035\n",
       "142819 -1.9205\n",
       "\n",
       "[142820 rows x 1 columns]"
      ]
     },
     "execution_count": 10,
     "metadata": {},
     "output_type": "execute_result"
    }
   ],
   "source": [
    "pq1_truth"
   ]
  },
  {
   "cell_type": "code",
   "execution_count": 15,
   "id": "3786c4a5",
   "metadata": {},
   "outputs": [],
   "source": [
    "X_train = pq1.values[0:80000,:]"
   ]
  },
  {
   "cell_type": "code",
   "execution_count": 16,
   "id": "8331547e",
   "metadata": {},
   "outputs": [
    {
     "data": {
      "text/plain": [
       "(80000, 273)"
      ]
     },
     "execution_count": 16,
     "metadata": {},
     "output_type": "execute_result"
    }
   ],
   "source": [
    "X_train.shape"
   ]
  },
  {
   "cell_type": "code",
   "execution_count": 18,
   "id": "7a684327",
   "metadata": {},
   "outputs": [],
   "source": [
    "y_pt_train = pq1_truth.values[0:80000,:]"
   ]
  },
  {
   "cell_type": "code",
   "execution_count": 19,
   "id": "2c47e13a",
   "metadata": {},
   "outputs": [
    {
     "data": {
      "text/plain": [
       "(80000, 1)"
      ]
     },
     "execution_count": 19,
     "metadata": {},
     "output_type": "execute_result"
    }
   ],
   "source": [
    "y_pt_train.shape"
   ]
  },
  {
   "cell_type": "code",
   "execution_count": 17,
   "id": "b9b1897f",
   "metadata": {},
   "outputs": [],
   "source": [
    "#original is 652,160 samples"
   ]
  },
  {
   "cell_type": "code",
   "execution_count": 20,
   "id": "c99b0c89",
   "metadata": {},
   "outputs": [],
   "source": [
    "X_test = pq1.values[80000:,:]"
   ]
  },
  {
   "cell_type": "code",
   "execution_count": 23,
   "id": "732f8741",
   "metadata": {},
   "outputs": [],
   "source": [
    "y_pt_test = pq1_truth.values[80000:,:]"
   ]
  },
  {
   "cell_type": "code",
   "execution_count": 24,
   "id": "67c99395",
   "metadata": {},
   "outputs": [
    {
     "data": {
      "text/plain": [
       "(62820, 1)"
      ]
     },
     "execution_count": 24,
     "metadata": {},
     "output_type": "execute_result"
    }
   ],
   "source": [
    "y_pt_test.shape"
   ]
  },
  {
   "cell_type": "code",
   "execution_count": 25,
   "id": "2daf96b5",
   "metadata": {},
   "outputs": [],
   "source": [
    "def get_truth(momenta, threshold):\n",
    "    return 1.0 * (momenta > threshold) + 2.0 * (momenta < -1 * threshold)"
   ]
  },
  {
   "cell_type": "code",
   "execution_count": 38,
   "id": "2b40c220",
   "metadata": {},
   "outputs": [],
   "source": [
    "threshold = 0.2"
   ]
  },
  {
   "cell_type": "code",
   "execution_count": 39,
   "id": "751c36cf",
   "metadata": {},
   "outputs": [],
   "source": [
    "y_train = get_truth(y_pt_train, threshold)"
   ]
  },
  {
   "cell_type": "code",
   "execution_count": 40,
   "id": "37be1aa8",
   "metadata": {},
   "outputs": [],
   "source": [
    "y_test = get_truth(y_pt_test, threshold)"
   ]
  },
  {
   "cell_type": "code",
   "execution_count": 41,
   "id": "bf1a97b0",
   "metadata": {},
   "outputs": [
    {
     "data": {
      "text/plain": [
       "(array([ 8270.,     0.,     0.,     0.,     0., 35881.,     0.,     0.,\n",
       "            0., 35849.]),\n",
       " array([0. , 0.2, 0.4, 0.6, 0.8, 1. , 1.2, 1.4, 1.6, 1.8, 2. ]),\n",
       " <BarContainer object of 10 artists>)"
      ]
     },
     "execution_count": 41,
     "metadata": {},
     "output_type": "execute_result"
    },
    {
     "data": {
      "image/png": "[encoded data removed]",
      "text/plain": [
       "<Figure size 432x288 with 1 Axes>"
      ]
     },
     "metadata": {
      "needs_background": "light"
     },
     "output_type": "display_data"
    }
   ],
   "source": [
    "plt.hist(y_train)"
   ]
  },
  {
   "cell_type": "code",
   "execution_count": 42,
   "id": "db38ef25",
   "metadata": {},
   "outputs": [],
   "source": [
    "#original is 3,597,877 test samples"
   ]
  },
  {
   "cell_type": "markdown",
   "id": "93b8fc12",
   "metadata": {},
   "source": [
    "# Training"
   ]
  },
  {
   "cell_type": "code",
   "execution_count": 43,
   "id": "f150ba39-5d91-4633-b6cd-b1ecd0b3ed91",
   "metadata": {},
   "outputs": [
    {
     "name": "stdout",
     "output_type": "stream",
     "text": [
      "(80000, 273) (62820, 273) (80000, 1) (62820, 1)\n"
     ]
    }
   ],
   "source": [
    "# X_train = df1.values\n",
    "# X_test = df3.values\n",
    "\n",
    "# y_train = df2.values\n",
    "# y_test = df4.values\n",
    "# #X_train, X_test, y_train, y_test = train_test_split(X,y,test_size = 0.20, random_state = 0)\n",
    "\n",
    "print(X_train.shape, X_test.shape, y_train.shape, y_test.shape)"
   ]
  },
  {
   "cell_type": "code",
   "execution_count": 44,
   "id": "23e343bd-a2e8-427a-b00e-c0f778074fad",
   "metadata": {},
   "outputs": [],
   "source": [
    "scaler = StandardScaler()\n",
    "X_train = scaler.fit_transform(X_train.reshape(-1, X_train.shape[-1])).reshape(X_train.shape)\n",
    "X_test = scaler.transform(X_test.reshape(-1, X_test.shape[-1])).reshape(X_test.shape)"
   ]
  },
  {
   "cell_type": "code",
   "execution_count": 45,
   "id": "15339e98-b6af-41cd-b568-16e2b6ecb03e",
   "metadata": {},
   "outputs": [],
   "source": [
    "#X_test_huge = scaler.transform(X_test_huge.reshape(-1, X_test_huge.shape[-1])).reshape(X_test_huge.shape)"
   ]
  },
  {
   "cell_type": "code",
   "execution_count": 63,
   "id": "5af05867-d2f2-4be1-9bd1-f179487a47ee",
   "metadata": {},
   "outputs": [
    {
     "name": "stdout",
     "output_type": "stream",
     "text": [
      "Model: \"sequential_4\"\n",
      "_________________________________________________________________\n",
      " Layer (type)                Output Shape              Param #   \n",
      "=================================================================\n",
      " flatten_4 (Flatten)         (None, 273)               0         \n",
      "                                                                 \n",
      " dense_8 (Dense)             (None, 128)               35072     \n",
      "                                                                 \n",
      " dense_9 (Dense)             (None, 1)                 129       \n",
      "                                                                 \n",
      "=================================================================\n",
      "Total params: 35,201\n",
      "Trainable params: 35,201\n",
      "Non-trainable params: 0\n",
      "_________________________________________________________________\n"
     ]
    }
   ],
   "source": [
    "model = tf.keras.models.Sequential([\n",
    "  tf.keras.layers.Flatten(input_shape=(273,)),\n",
    "  tf.keras.layers.Dense(128, activation='relu'),\n",
    "  tf.keras.layers.Dense(1,)\n",
    "])\n",
    "\n",
    "model.compile(optimizer=Adam(),\n",
    "              loss=\"mse\",\n",
    "              metrics=[keras.metrics.RootMeanSquaredError()])\n",
    "\n",
    "model.summary()\n",
    "\n"
   ]
  },
  {
   "cell_type": "code",
   "execution_count": 64,
   "id": "4720ce89-2eae-4016-a7c2-955ae4bbaae9",
   "metadata": {},
   "outputs": [
    {
     "name": "stdout",
     "output_type": "stream",
     "text": [
      "Epoch 1/200\n",
      "63/63 [==============================] - ETA: 0s - loss: 1.7236 - root_mean_squared_error: 1.3128WARNING:tensorflow:Early stopping conditioned on metric `mse` which is not available. Available metrics are: loss,root_mean_squared_error,val_loss,val_root_mean_squared_error\n",
      "63/63 [==============================] - 1s 10ms/step - loss: 1.7236 - root_mean_squared_error: 1.3128 - val_loss: 1.6708 - val_root_mean_squared_error: 1.2926\n",
      "Epoch 2/200\n",
      "62/63 [============================>.] - ETA: 0s - loss: 1.4428 - root_mean_squared_error: 1.2011WARNING:tensorflow:Early stopping conditioned on metric `mse` which is not available. Available metrics are: loss,root_mean_squared_error,val_loss,val_root_mean_squared_error\n",
      "63/63 [==============================] - 0s 7ms/step - loss: 1.4423 - root_mean_squared_error: 1.2010 - val_loss: 1.5683 - val_root_mean_squared_error: 1.2523\n",
      "Epoch 3/200\n",
      "59/63 [===========================>..] - ETA: 0s - loss: 1.4088 - root_mean_squared_error: 1.1869WARNING:tensorflow:Early stopping conditioned on metric `mse` which is not available. Available metrics are: loss,root_mean_squared_error,val_loss,val_root_mean_squared_error\n",
      "63/63 [==============================] - 0s 8ms/step - loss: 1.4086 - root_mean_squared_error: 1.1869 - val_loss: 1.6065 - val_root_mean_squared_error: 1.2675\n",
      "Epoch 4/200\n",
      "62/63 [============================>.] - ETA: 0s - loss: 1.3877 - root_mean_squared_error: 1.1780WARNING:tensorflow:Early stopping conditioned on metric `mse` which is not available. Available metrics are: loss,root_mean_squared_error,val_loss,val_root_mean_squared_error\n",
      "63/63 [==============================] - 0s 7ms/step - loss: 1.3865 - root_mean_squared_error: 1.1775 - val_loss: 1.5517 - val_root_mean_squared_error: 1.2457\n",
      "Epoch 5/200\n",
      "55/63 [=========================>....] - ETA: 0s - loss: 1.3675 - root_mean_squared_error: 1.1694WARNING:tensorflow:Early stopping conditioned on metric `mse` which is not available. Available metrics are: loss,root_mean_squared_error,val_loss,val_root_mean_squared_error\n",
      "63/63 [==============================] - 0s 7ms/step - loss: 1.3694 - root_mean_squared_error: 1.1702 - val_loss: 1.5702 - val_root_mean_squared_error: 1.2531\n",
      "Epoch 6/200\n",
      "63/63 [==============================] - ETA: 0s - loss: 1.3701 - root_mean_squared_error: 1.1705WARNING:tensorflow:Early stopping conditioned on metric `mse` which is not available. Available metrics are: loss,root_mean_squared_error,val_loss,val_root_mean_squared_error\n",
      "63/63 [==============================] - 0s 7ms/step - loss: 1.3701 - root_mean_squared_error: 1.1705 - val_loss: 1.5570 - val_root_mean_squared_error: 1.2478\n",
      "Epoch 7/200\n",
      "55/63 [=========================>....] - ETA: 0s - loss: 1.3659 - root_mean_squared_error: 1.1687WARNING:tensorflow:Early stopping conditioned on metric `mse` which is not available. Available metrics are: loss,root_mean_squared_error,val_loss,val_root_mean_squared_error\n",
      "63/63 [==============================] - 0s 7ms/step - loss: 1.3650 - root_mean_squared_error: 1.1683 - val_loss: 1.5458 - val_root_mean_squared_error: 1.2433\n",
      "Epoch 8/200\n",
      "55/63 [=========================>....] - ETA: 0s - loss: 1.3483 - root_mean_squared_error: 1.1611WARNING:tensorflow:Early stopping conditioned on metric `mse` which is not available. Available metrics are: loss,root_mean_squared_error,val_loss,val_root_mean_squared_error\n",
      "63/63 [==============================] - 0s 7ms/step - loss: 1.3524 - root_mean_squared_error: 1.1629 - val_loss: 1.5547 - val_root_mean_squared_error: 1.2469\n",
      "Epoch 9/200\n",
      "60/63 [===========================>..] - ETA: 0s - loss: 1.3471 - root_mean_squared_error: 1.1606WARNING:tensorflow:Early stopping conditioned on metric `mse` which is not available. Available metrics are: loss,root_mean_squared_error,val_loss,val_root_mean_squared_error\n",
      "63/63 [==============================] - 0s 7ms/step - loss: 1.3480 - root_mean_squared_error: 1.1610 - val_loss: 1.5270 - val_root_mean_squared_error: 1.2357\n",
      "Epoch 10/200\n",
      "55/63 [=========================>....] - ETA: 0s - loss: 1.3291 - root_mean_squared_error: 1.1529WARNING:tensorflow:Early stopping conditioned on metric `mse` which is not available. Available metrics are: loss,root_mean_squared_error,val_loss,val_root_mean_squared_error\n",
      "63/63 [==============================] - 0s 7ms/step - loss: 1.3602 - root_mean_squared_error: 1.1663 - val_loss: 1.5500 - val_root_mean_squared_error: 1.2450\n",
      "Epoch 11/200\n",
      "62/63 [============================>.] - ETA: 0s - loss: 1.3658 - root_mean_squared_error: 1.1687WARNING:tensorflow:Early stopping conditioned on metric `mse` which is not available. Available metrics are: loss,root_mean_squared_error,val_loss,val_root_mean_squared_error\n",
      "63/63 [==============================] - 0s 7ms/step - loss: 1.3647 - root_mean_squared_error: 1.1682 - val_loss: 1.5492 - val_root_mean_squared_error: 1.2447\n",
      "Epoch 12/200\n",
      "55/63 [=========================>....] - ETA: 0s - loss: 1.3401 - root_mean_squared_error: 1.1576WARNING:tensorflow:Early stopping conditioned on metric `mse` which is not available. Available metrics are: loss,root_mean_squared_error,val_loss,val_root_mean_squared_error\n",
      "63/63 [==============================] - 0s 7ms/step - loss: 1.3373 - root_mean_squared_error: 1.1564 - val_loss: 1.5406 - val_root_mean_squared_error: 1.2412\n",
      "Epoch 13/200\n",
      "62/63 [============================>.] - ETA: 0s - loss: 1.3489 - root_mean_squared_error: 1.1614WARNING:tensorflow:Early stopping conditioned on metric `mse` which is not available. Available metrics are: loss,root_mean_squared_error,val_loss,val_root_mean_squared_error\n",
      "63/63 [==============================] - 0s 7ms/step - loss: 1.3485 - root_mean_squared_error: 1.1613 - val_loss: 1.5352 - val_root_mean_squared_error: 1.2390\n",
      "Epoch 14/200\n",
      "57/63 [==========================>...] - ETA: 0s - loss: 1.3298 - root_mean_squared_error: 1.1532WARNING:tensorflow:Early stopping conditioned on metric `mse` which is not available. Available metrics are: loss,root_mean_squared_error,val_loss,val_root_mean_squared_error\n",
      "63/63 [==============================] - 0s 7ms/step - loss: 1.3287 - root_mean_squared_error: 1.1527 - val_loss: 1.5328 - val_root_mean_squared_error: 1.2380\n",
      "Epoch 15/200\n",
      "62/63 [============================>.] - ETA: 0s - loss: 1.3216 - root_mean_squared_error: 1.1496WARNING:tensorflow:Early stopping conditioned on metric `mse` which is not available. Available metrics are: loss,root_mean_squared_error,val_loss,val_root_mean_squared_error\n",
      "63/63 [==============================] - 0s 7ms/step - loss: 1.3211 - root_mean_squared_error: 1.1494 - val_loss: 1.5417 - val_root_mean_squared_error: 1.2417\n",
      "Epoch 16/200\n",
      "55/63 [=========================>....] - ETA: 0s - loss: 1.3195 - root_mean_squared_error: 1.1487WARNING:tensorflow:Early stopping conditioned on metric `mse` which is not available. Available metrics are: loss,root_mean_squared_error,val_loss,val_root_mean_squared_error\n",
      "63/63 [==============================] - 0s 7ms/step - loss: 1.3184 - root_mean_squared_error: 1.1482 - val_loss: 1.5431 - val_root_mean_squared_error: 1.2422\n",
      "Epoch 17/200\n",
      "55/63 [=========================>....] - ETA: 0s - loss: 1.3173 - root_mean_squared_error: 1.1477WARNING:tensorflow:Early stopping conditioned on metric `mse` which is not available. Available metrics are: loss,root_mean_squared_error,val_loss,val_root_mean_squared_error\n",
      "63/63 [==============================] - 0s 7ms/step - loss: 1.3177 - root_mean_squared_error: 1.1479 - val_loss: 1.5335 - val_root_mean_squared_error: 1.2383\n",
      "Epoch 18/200\n",
      "61/63 [============================>.] - ETA: 0s - loss: 1.3284 - root_mean_squared_error: 1.1526WARNING:tensorflow:Early stopping conditioned on metric `mse` which is not available. Available metrics are: loss,root_mean_squared_error,val_loss,val_root_mean_squared_error\n",
      "63/63 [==============================] - 0s 7ms/step - loss: 1.3265 - root_mean_squared_error: 1.1517 - val_loss: 1.5724 - val_root_mean_squared_error: 1.2540\n",
      "Epoch 19/200\n",
      "63/63 [==============================] - ETA: 0s - loss: 1.3214 - root_mean_squared_error: 1.1495WARNING:tensorflow:Early stopping conditioned on metric `mse` which is not available. Available metrics are: loss,root_mean_squared_error,val_loss,val_root_mean_squared_error\n",
      "63/63 [==============================] - 0s 7ms/step - loss: 1.3214 - root_mean_squared_error: 1.1495 - val_loss: 1.5225 - val_root_mean_squared_error: 1.2339\n",
      "Epoch 20/200\n",
      "63/63 [==============================] - ETA: 0s - loss: 1.3205 - root_mean_squared_error: 1.1491WARNING:tensorflow:Early stopping conditioned on metric `mse` which is not available. Available metrics are: loss,root_mean_squared_error,val_loss,val_root_mean_squared_error\n",
      "63/63 [==============================] - 0s 7ms/step - loss: 1.3205 - root_mean_squared_error: 1.1491 - val_loss: 1.5662 - val_root_mean_squared_error: 1.2515\n",
      "Epoch 21/200\n",
      "62/63 [============================>.] - ETA: 0s - loss: 1.3166 - root_mean_squared_error: 1.1474WARNING:tensorflow:Early stopping conditioned on metric `mse` which is not available. Available metrics are: loss,root_mean_squared_error,val_loss,val_root_mean_squared_error\n",
      "63/63 [==============================] - 0s 7ms/step - loss: 1.3168 - root_mean_squared_error: 1.1475 - val_loss: 1.5279 - val_root_mean_squared_error: 1.2361\n",
      "Epoch 22/200\n",
      "57/63 [==========================>...] - ETA: 0s - loss: 1.3121 - root_mean_squared_error: 1.1455WARNING:tensorflow:Early stopping conditioned on metric `mse` which is not available. Available metrics are: loss,root_mean_squared_error,val_loss,val_root_mean_squared_error\n",
      "63/63 [==============================] - 0s 8ms/step - loss: 1.3122 - root_mean_squared_error: 1.1455 - val_loss: 1.5622 - val_root_mean_squared_error: 1.2499\n",
      "Epoch 23/200\n",
      "55/63 [=========================>....] - ETA: 0s - loss: 1.3036 - root_mean_squared_error: 1.1418WARNING:tensorflow:Early stopping conditioned on metric `mse` which is not available. Available metrics are: loss,root_mean_squared_error,val_loss,val_root_mean_squared_error\n",
      "63/63 [==============================] - 0s 7ms/step - loss: 1.3033 - root_mean_squared_error: 1.1416 - val_loss: 1.5245 - val_root_mean_squared_error: 1.2347\n",
      "Epoch 24/200\n",
      "55/63 [=========================>....] - ETA: 0s - loss: 1.3040 - root_mean_squared_error: 1.1419WARNING:tensorflow:Early stopping conditioned on metric `mse` which is not available. Available metrics are: loss,root_mean_squared_error,val_loss,val_root_mean_squared_error\n",
      "63/63 [==============================] - 0s 7ms/step - loss: 1.3031 - root_mean_squared_error: 1.1415 - val_loss: 1.5520 - val_root_mean_squared_error: 1.2458\n",
      "Epoch 25/200\n",
      "55/63 [=========================>....] - ETA: 0s - loss: 1.2963 - root_mean_squared_error: 1.1385WARNING:tensorflow:Early stopping conditioned on metric `mse` which is not available. Available metrics are: loss,root_mean_squared_error,val_loss,val_root_mean_squared_error\n",
      "63/63 [==============================] - 0s 7ms/step - loss: 1.2975 - root_mean_squared_error: 1.1391 - val_loss: 1.5198 - val_root_mean_squared_error: 1.2328\n",
      "Epoch 26/200\n",
      "62/63 [============================>.] - ETA: 0s - loss: 1.2963 - root_mean_squared_error: 1.1386WARNING:tensorflow:Early stopping conditioned on metric `mse` which is not available. Available metrics are: loss,root_mean_squared_error,val_loss,val_root_mean_squared_error\n",
      "63/63 [==============================] - 0s 7ms/step - loss: 1.2967 - root_mean_squared_error: 1.1387 - val_loss: 1.5467 - val_root_mean_squared_error: 1.2437\n",
      "Epoch 27/200\n",
      "55/63 [=========================>....] - ETA: 0s - loss: 1.2981 - root_mean_squared_error: 1.1393WARNING:tensorflow:Early stopping conditioned on metric `mse` which is not available. Available metrics are: loss,root_mean_squared_error,val_loss,val_root_mean_squared_error\n",
      "63/63 [==============================] - 0s 7ms/step - loss: 1.2982 - root_mean_squared_error: 1.1394 - val_loss: 1.5316 - val_root_mean_squared_error: 1.2376\n",
      "Epoch 28/200\n",
      "55/63 [=========================>....] - ETA: 0s - loss: 1.2921 - root_mean_squared_error: 1.1367WARNING:tensorflow:Early stopping conditioned on metric `mse` which is not available. Available metrics are: loss,root_mean_squared_error,val_loss,val_root_mean_squared_error\n",
      "63/63 [==============================] - 0s 7ms/step - loss: 1.2920 - root_mean_squared_error: 1.1367 - val_loss: 1.5619 - val_root_mean_squared_error: 1.2498\n",
      "Epoch 29/200\n",
      "54/63 [========================>.....] - ETA: 0s - loss: 1.2897 - root_mean_squared_error: 1.1357WARNING:tensorflow:Early stopping conditioned on metric `mse` which is not available. Available metrics are: loss,root_mean_squared_error,val_loss,val_root_mean_squared_error\n",
      "63/63 [==============================] - 0s 7ms/step - loss: 1.2947 - root_mean_squared_error: 1.1378 - val_loss: 1.5350 - val_root_mean_squared_error: 1.2389\n",
      "Epoch 30/200\n",
      "55/63 [=========================>....] - ETA: 0s - loss: 1.2927 - root_mean_squared_error: 1.1370WARNING:tensorflow:Early stopping conditioned on metric `mse` which is not available. Available metrics are: loss,root_mean_squared_error,val_loss,val_root_mean_squared_error\n",
      "63/63 [==============================] - 0s 7ms/step - loss: 1.2925 - root_mean_squared_error: 1.1369 - val_loss: 1.5783 - val_root_mean_squared_error: 1.2563\n",
      "Epoch 31/200\n",
      "55/63 [=========================>....] - ETA: 0s - loss: 1.2944 - root_mean_squared_error: 1.1377WARNING:tensorflow:Early stopping conditioned on metric `mse` which is not available. Available metrics are: loss,root_mean_squared_error,val_loss,val_root_mean_squared_error\n",
      "63/63 [==============================] - 0s 7ms/step - loss: 1.2970 - root_mean_squared_error: 1.1388 - val_loss: 1.5273 - val_root_mean_squared_error: 1.2359\n",
      "Epoch 32/200\n",
      "55/63 [=========================>....] - ETA: 0s - loss: 1.2911 - root_mean_squared_error: 1.1363WARNING:tensorflow:Early stopping conditioned on metric `mse` which is not available. Available metrics are: loss,root_mean_squared_error,val_loss,val_root_mean_squared_error\n",
      "63/63 [==============================] - 0s 7ms/step - loss: 1.2970 - root_mean_squared_error: 1.1388 - val_loss: 1.5752 - val_root_mean_squared_error: 1.2551\n",
      "Epoch 33/200\n",
      "55/63 [=========================>....] - ETA: 0s - loss: 1.2987 - root_mean_squared_error: 1.1396WARNING:tensorflow:Early stopping conditioned on metric `mse` which is not available. Available metrics are: loss,root_mean_squared_error,val_loss,val_root_mean_squared_error\n",
      "63/63 [==============================] - 0s 7ms/step - loss: 1.2957 - root_mean_squared_error: 1.1383 - val_loss: 1.5471 - val_root_mean_squared_error: 1.2438\n",
      "Epoch 34/200\n",
      "61/63 [============================>.] - ETA: 0s - loss: 1.2948 - root_mean_squared_error: 1.1379WARNING:tensorflow:Early stopping conditioned on metric `mse` which is not available. Available metrics are: loss,root_mean_squared_error,val_loss,val_root_mean_squared_error\n",
      "63/63 [==============================] - 0s 7ms/step - loss: 1.2945 - root_mean_squared_error: 1.1378 - val_loss: 1.5589 - val_root_mean_squared_error: 1.2485\n",
      "Epoch 35/200\n",
      "55/63 [=========================>....] - ETA: 0s - loss: 1.2896 - root_mean_squared_error: 1.1356WARNING:tensorflow:Early stopping conditioned on metric `mse` which is not available. Available metrics are: loss,root_mean_squared_error,val_loss,val_root_mean_squared_error\n",
      "63/63 [==============================] - 0s 7ms/step - loss: 1.2883 - root_mean_squared_error: 1.1350 - val_loss: 1.5312 - val_root_mean_squared_error: 1.2374\n",
      "Epoch 36/200\n",
      "55/63 [=========================>....] - ETA: 0s - loss: 1.2816 - root_mean_squared_error: 1.1321WARNING:tensorflow:Early stopping conditioned on metric `mse` which is not available. Available metrics are: loss,root_mean_squared_error,val_loss,val_root_mean_squared_error\n",
      "63/63 [==============================] - 0s 7ms/step - loss: 1.2812 - root_mean_squared_error: 1.1319 - val_loss: 1.5496 - val_root_mean_squared_error: 1.2448\n",
      "Epoch 37/200\n",
      "61/63 [============================>.] - ETA: 0s - loss: 1.2867 - root_mean_squared_error: 1.1343WARNING:tensorflow:Early stopping conditioned on metric `mse` which is not available. Available metrics are: loss,root_mean_squared_error,val_loss,val_root_mean_squared_error\n",
      "63/63 [==============================] - 0s 7ms/step - loss: 1.2861 - root_mean_squared_error: 1.1341 - val_loss: 1.5303 - val_root_mean_squared_error: 1.2371\n",
      "Epoch 38/200\n",
      "55/63 [=========================>....] - ETA: 0s - loss: 1.2864 - root_mean_squared_error: 1.1342WARNING:tensorflow:Early stopping conditioned on metric `mse` which is not available. Available metrics are: loss,root_mean_squared_error,val_loss,val_root_mean_squared_error\n",
      "63/63 [==============================] - 0s 7ms/step - loss: 1.2828 - root_mean_squared_error: 1.1326 - val_loss: 1.5656 - val_root_mean_squared_error: 1.2512\n",
      "Epoch 39/200\n",
      "55/63 [=========================>....] - ETA: 0s - loss: 1.2863 - root_mean_squared_error: 1.1341WARNING:tensorflow:Early stopping conditioned on metric `mse` which is not available. Available metrics are: loss,root_mean_squared_error,val_loss,val_root_mean_squared_error\n",
      "63/63 [==============================] - 0s 7ms/step - loss: 1.2837 - root_mean_squared_error: 1.1330 - val_loss: 1.5296 - val_root_mean_squared_error: 1.2368\n",
      "Epoch 40/200\n",
      "55/63 [=========================>....] - ETA: 0s - loss: 1.2729 - root_mean_squared_error: 1.1283WARNING:tensorflow:Early stopping conditioned on metric `mse` which is not available. Available metrics are: loss,root_mean_squared_error,val_loss,val_root_mean_squared_error\n",
      "63/63 [==============================] - 0s 7ms/step - loss: 1.2785 - root_mean_squared_error: 1.1307 - val_loss: 1.5655 - val_root_mean_squared_error: 1.2512\n",
      "Epoch 41/200\n",
      "63/63 [==============================] - ETA: 0s - loss: 1.2853 - root_mean_squared_error: 1.1337WARNING:tensorflow:Early stopping conditioned on metric `mse` which is not available. Available metrics are: loss,root_mean_squared_error,val_loss,val_root_mean_squared_error\n",
      "63/63 [==============================] - 0s 7ms/step - loss: 1.2853 - root_mean_squared_error: 1.1337 - val_loss: 1.5386 - val_root_mean_squared_error: 1.2404\n",
      "Epoch 42/200\n",
      "62/63 [============================>.] - ETA: 0s - loss: 1.2927 - root_mean_squared_error: 1.1369WARNING:tensorflow:Early stopping conditioned on metric `mse` which is not available. Available metrics are: loss,root_mean_squared_error,val_loss,val_root_mean_squared_error\n",
      "63/63 [==============================] - 0s 7ms/step - loss: 1.2925 - root_mean_squared_error: 1.1369 - val_loss: 1.5780 - val_root_mean_squared_error: 1.2562\n",
      "Epoch 43/200\n",
      "55/63 [=========================>....] - ETA: 0s - loss: 1.2639 - root_mean_squared_error: 1.1242WARNING:tensorflow:Early stopping conditioned on metric `mse` which is not available. Available metrics are: loss,root_mean_squared_error,val_loss,val_root_mean_squared_error\n",
      "63/63 [==============================] - 0s 7ms/step - loss: 1.2879 - root_mean_squared_error: 1.1349 - val_loss: 1.5405 - val_root_mean_squared_error: 1.2412\n",
      "Epoch 44/200\n",
      "55/63 [=========================>....] - ETA: 0s - loss: 1.2770 - root_mean_squared_error: 1.1300WARNING:tensorflow:Early stopping conditioned on metric `mse` which is not available. Available metrics are: loss,root_mean_squared_error,val_loss,val_root_mean_squared_error\n",
      "63/63 [==============================] - 0s 7ms/step - loss: 1.2738 - root_mean_squared_error: 1.1286 - val_loss: 1.5422 - val_root_mean_squared_error: 1.2419\n",
      "Epoch 45/200\n",
      "57/63 [==========================>...] - ETA: 0s - loss: 1.2600 - root_mean_squared_error: 1.1225WARNING:tensorflow:Early stopping conditioned on metric `mse` which is not available. Available metrics are: loss,root_mean_squared_error,val_loss,val_root_mean_squared_error\n",
      "63/63 [==============================] - 0s 7ms/step - loss: 1.2623 - root_mean_squared_error: 1.1235 - val_loss: 1.5329 - val_root_mean_squared_error: 1.2381\n",
      "Epoch 46/200\n",
      "58/63 [==========================>...] - ETA: 0s - loss: 1.2666 - root_mean_squared_error: 1.1254WARNING:tensorflow:Early stopping conditioned on metric `mse` which is not available. Available metrics are: loss,root_mean_squared_error,val_loss,val_root_mean_squared_error\n",
      "63/63 [==============================] - 0s 7ms/step - loss: 1.2661 - root_mean_squared_error: 1.1252 - val_loss: 1.5519 - val_root_mean_squared_error: 1.2457\n",
      "Epoch 47/200\n",
      "56/63 [=========================>....] - ETA: 0s - loss: 1.2528 - root_mean_squared_error: 1.1193WARNING:tensorflow:Early stopping conditioned on metric `mse` which is not available. Available metrics are: loss,root_mean_squared_error,val_loss,val_root_mean_squared_error\n",
      "63/63 [==============================] - 0s 7ms/step - loss: 1.2555 - root_mean_squared_error: 1.1205 - val_loss: 1.5467 - val_root_mean_squared_error: 1.2437\n",
      "Epoch 48/200\n",
      "57/63 [==========================>...] - ETA: 0s - loss: 1.2569 - root_mean_squared_error: 1.1211WARNING:tensorflow:Early stopping conditioned on metric `mse` which is not available. Available metrics are: loss,root_mean_squared_error,val_loss,val_root_mean_squared_error\n",
      "63/63 [==============================] - 0s 7ms/step - loss: 1.2544 - root_mean_squared_error: 1.1200 - val_loss: 1.5741 - val_root_mean_squared_error: 1.2546\n",
      "Epoch 49/200\n",
      "60/63 [===========================>..] - ETA: 0s - loss: 1.2516 - root_mean_squared_error: 1.1188WARNING:tensorflow:Early stopping conditioned on metric `mse` which is not available. Available metrics are: loss,root_mean_squared_error,val_loss,val_root_mean_squared_error\n",
      "63/63 [==============================] - 0s 7ms/step - loss: 1.2513 - root_mean_squared_error: 1.1186 - val_loss: 1.5428 - val_root_mean_squared_error: 1.2421\n",
      "Epoch 50/200\n",
      "57/63 [==========================>...] - ETA: 0s - loss: 1.2538 - root_mean_squared_error: 1.1197WARNING:tensorflow:Early stopping conditioned on metric `mse` which is not available. Available metrics are: loss,root_mean_squared_error,val_loss,val_root_mean_squared_error\n",
      "63/63 [==============================] - 0s 7ms/step - loss: 1.2549 - root_mean_squared_error: 1.1202 - val_loss: 1.5753 - val_root_mean_squared_error: 1.2551\n",
      "Epoch 51/200\n",
      "59/63 [===========================>..] - ETA: 0s - loss: 1.2638 - root_mean_squared_error: 1.1242WARNING:tensorflow:Early stopping conditioned on metric `mse` which is not available. Available metrics are: loss,root_mean_squared_error,val_loss,val_root_mean_squared_error\n",
      "63/63 [==============================] - 0s 7ms/step - loss: 1.2636 - root_mean_squared_error: 1.1241 - val_loss: 1.5592 - val_root_mean_squared_error: 1.2487\n",
      "Epoch 52/200\n",
      "60/63 [===========================>..] - ETA: 0s - loss: 1.2626 - root_mean_squared_error: 1.1236WARNING:tensorflow:Early stopping conditioned on metric `mse` which is not available. Available metrics are: loss,root_mean_squared_error,val_loss,val_root_mean_squared_error\n",
      "63/63 [==============================] - 0s 7ms/step - loss: 1.2676 - root_mean_squared_error: 1.1259 - val_loss: 1.5600 - val_root_mean_squared_error: 1.2490\n",
      "Epoch 53/200\n",
      "55/63 [=========================>....] - ETA: 0s - loss: 1.2691 - root_mean_squared_error: 1.1266WARNING:tensorflow:Early stopping conditioned on metric `mse` which is not available. Available metrics are: loss,root_mean_squared_error,val_loss,val_root_mean_squared_error\n",
      "63/63 [==============================] - 0s 7ms/step - loss: 1.2685 - root_mean_squared_error: 1.1263 - val_loss: 1.5845 - val_root_mean_squared_error: 1.2588\n",
      "Epoch 54/200\n",
      "58/63 [==========================>...] - ETA: 0s - loss: 1.2794 - root_mean_squared_error: 1.1311WARNING:tensorflow:Early stopping conditioned on metric `mse` which is not available. Available metrics are: loss,root_mean_squared_error,val_loss,val_root_mean_squared_error\n",
      "63/63 [==============================] - 0s 7ms/step - loss: 1.2779 - root_mean_squared_error: 1.1305 - val_loss: 1.5829 - val_root_mean_squared_error: 1.2581\n",
      "Epoch 55/200\n",
      "60/63 [===========================>..] - ETA: 0s - loss: 1.2771 - root_mean_squared_error: 1.1301WARNING:tensorflow:Early stopping conditioned on metric `mse` which is not available. Available metrics are: loss,root_mean_squared_error,val_loss,val_root_mean_squared_error\n",
      "63/63 [==============================] - 0s 7ms/step - loss: 1.2747 - root_mean_squared_error: 1.1290 - val_loss: 1.5728 - val_root_mean_squared_error: 1.2541\n",
      "Epoch 56/200\n",
      "58/63 [==========================>...] - ETA: 0s - loss: 1.2486 - root_mean_squared_error: 1.1174WARNING:tensorflow:Early stopping conditioned on metric `mse` which is not available. Available metrics are: loss,root_mean_squared_error,val_loss,val_root_mean_squared_error\n",
      "63/63 [==============================] - 0s 7ms/step - loss: 1.2527 - root_mean_squared_error: 1.1193 - val_loss: 1.5686 - val_root_mean_squared_error: 1.2524\n",
      "Epoch 57/200\n",
      "55/63 [=========================>....] - ETA: 0s - loss: 1.2515 - root_mean_squared_error: 1.1187WARNING:tensorflow:Early stopping conditioned on metric `mse` which is not available. Available metrics are: loss,root_mean_squared_error,val_loss,val_root_mean_squared_error\n",
      "63/63 [==============================] - 0s 7ms/step - loss: 1.2485 - root_mean_squared_error: 1.1174 - val_loss: 1.5610 - val_root_mean_squared_error: 1.2494\n",
      "Epoch 58/200\n",
      "58/63 [==========================>...] - ETA: 0s - loss: 1.2490 - root_mean_squared_error: 1.1176WARNING:tensorflow:Early stopping conditioned on metric `mse` which is not available. Available metrics are: loss,root_mean_squared_error,val_loss,val_root_mean_squared_error\n",
      "63/63 [==============================] - 0s 7ms/step - loss: 1.2482 - root_mean_squared_error: 1.1172 - val_loss: 1.5668 - val_root_mean_squared_error: 1.2517\n",
      "Epoch 59/200\n",
      "56/63 [=========================>....] - ETA: 0s - loss: 1.2675 - root_mean_squared_error: 1.1258WARNING:tensorflow:Early stopping conditioned on metric `mse` which is not available. Available metrics are: loss,root_mean_squared_error,val_loss,val_root_mean_squared_error\n",
      "63/63 [==============================] - 0s 7ms/step - loss: 1.2631 - root_mean_squared_error: 1.1239 - val_loss: 1.5658 - val_root_mean_squared_error: 1.2513\n",
      "Epoch 60/200\n",
      "54/63 [========================>.....] - ETA: 0s - loss: 1.2730 - root_mean_squared_error: 1.1283WARNING:tensorflow:Early stopping conditioned on metric `mse` which is not available. Available metrics are: loss,root_mean_squared_error,val_loss,val_root_mean_squared_error\n",
      "63/63 [==============================] - 0s 7ms/step - loss: 1.2686 - root_mean_squared_error: 1.1263 - val_loss: 1.5899 - val_root_mean_squared_error: 1.2609\n",
      "Epoch 61/200\n",
      "57/63 [==========================>...] - ETA: 0s - loss: 1.2538 - root_mean_squared_error: 1.1198WARNING:tensorflow:Early stopping conditioned on metric `mse` which is not available. Available metrics are: loss,root_mean_squared_error,val_loss,val_root_mean_squared_error\n",
      "63/63 [==============================] - 0s 7ms/step - loss: 1.2512 - root_mean_squared_error: 1.1186 - val_loss: 1.5586 - val_root_mean_squared_error: 1.2484\n",
      "Epoch 62/200\n",
      "56/63 [=========================>....] - ETA: 0s - loss: 1.2331 - root_mean_squared_error: 1.1105WARNING:tensorflow:Early stopping conditioned on metric `mse` which is not available. Available metrics are: loss,root_mean_squared_error,val_loss,val_root_mean_squared_error\n",
      "63/63 [==============================] - 0s 7ms/step - loss: 1.2325 - root_mean_squared_error: 1.1102 - val_loss: 1.5621 - val_root_mean_squared_error: 1.2498\n",
      "Epoch 63/200\n",
      "57/63 [==========================>...] - ETA: 0s - loss: 1.2249 - root_mean_squared_error: 1.1068WARNING:tensorflow:Early stopping conditioned on metric `mse` which is not available. Available metrics are: loss,root_mean_squared_error,val_loss,val_root_mean_squared_error\n",
      "63/63 [==============================] - 0s 7ms/step - loss: 1.2261 - root_mean_squared_error: 1.1073 - val_loss: 1.5803 - val_root_mean_squared_error: 1.2571\n",
      "Epoch 64/200\n",
      "55/63 [=========================>....] - ETA: 0s - loss: 1.2202 - root_mean_squared_error: 1.1046WARNING:tensorflow:Early stopping conditioned on metric `mse` which is not available. Available metrics are: loss,root_mean_squared_error,val_loss,val_root_mean_squared_error\n",
      "63/63 [==============================] - 0s 7ms/step - loss: 1.2298 - root_mean_squared_error: 1.1090 - val_loss: 1.5713 - val_root_mean_squared_error: 1.2535\n",
      "Epoch 65/200\n",
      "57/63 [==========================>...] - ETA: 0s - loss: 1.2554 - root_mean_squared_error: 1.1204WARNING:tensorflow:Early stopping conditioned on metric `mse` which is not available. Available metrics are: loss,root_mean_squared_error,val_loss,val_root_mean_squared_error\n",
      "63/63 [==============================] - 0s 7ms/step - loss: 1.2548 - root_mean_squared_error: 1.1202 - val_loss: 1.6130 - val_root_mean_squared_error: 1.2700\n",
      "Epoch 66/200\n",
      "58/63 [==========================>...] - ETA: 0s - loss: 1.2633 - root_mean_squared_error: 1.1240WARNING:tensorflow:Early stopping conditioned on metric `mse` which is not available. Available metrics are: loss,root_mean_squared_error,val_loss,val_root_mean_squared_error\n",
      "63/63 [==============================] - 0s 7ms/step - loss: 1.2599 - root_mean_squared_error: 1.1225 - val_loss: 1.5721 - val_root_mean_squared_error: 1.2538\n",
      "Epoch 67/200\n",
      "58/63 [==========================>...] - ETA: 0s - loss: 1.2520 - root_mean_squared_error: 1.1189WARNING:tensorflow:Early stopping conditioned on metric `mse` which is not available. Available metrics are: loss,root_mean_squared_error,val_loss,val_root_mean_squared_error\n",
      "63/63 [==============================] - 0s 7ms/step - loss: 1.2490 - root_mean_squared_error: 1.1176 - val_loss: 1.5903 - val_root_mean_squared_error: 1.2611\n",
      "Epoch 68/200\n",
      "58/63 [==========================>...] - ETA: 0s - loss: 1.2375 - root_mean_squared_error: 1.1124WARNING:tensorflow:Early stopping conditioned on metric `mse` which is not available. Available metrics are: loss,root_mean_squared_error,val_loss,val_root_mean_squared_error\n",
      "63/63 [==============================] - 0s 7ms/step - loss: 1.2383 - root_mean_squared_error: 1.1128 - val_loss: 1.5713 - val_root_mean_squared_error: 1.2535\n",
      "Epoch 69/200\n",
      "58/63 [==========================>...] - ETA: 0s - loss: 1.2288 - root_mean_squared_error: 1.1085WARNING:tensorflow:Early stopping conditioned on metric `mse` which is not available. Available metrics are: loss,root_mean_squared_error,val_loss,val_root_mean_squared_error\n",
      "63/63 [==============================] - 0s 7ms/step - loss: 1.2301 - root_mean_squared_error: 1.1091 - val_loss: 1.5854 - val_root_mean_squared_error: 1.2591\n",
      "Epoch 70/200\n",
      "56/63 [=========================>....] - ETA: 0s - loss: 1.2215 - root_mean_squared_error: 1.1052WARNING:tensorflow:Early stopping conditioned on metric `mse` which is not available. Available metrics are: loss,root_mean_squared_error,val_loss,val_root_mean_squared_error\n",
      "63/63 [==============================] - 0s 7ms/step - loss: 1.2217 - root_mean_squared_error: 1.1053 - val_loss: 1.5797 - val_root_mean_squared_error: 1.2569\n",
      "Epoch 71/200\n",
      "56/63 [=========================>....] - ETA: 0s - loss: 1.2297 - root_mean_squared_error: 1.1089WARNING:tensorflow:Early stopping conditioned on metric `mse` which is not available. Available metrics are: loss,root_mean_squared_error,val_loss,val_root_mean_squared_error\n",
      "63/63 [==============================] - 0s 7ms/step - loss: 1.2263 - root_mean_squared_error: 1.1074 - val_loss: 1.5686 - val_root_mean_squared_error: 1.2524\n",
      "Epoch 72/200\n",
      "56/63 [=========================>....] - ETA: 0s - loss: 1.2311 - root_mean_squared_error: 1.1096WARNING:tensorflow:Early stopping conditioned on metric `mse` which is not available. Available metrics are: loss,root_mean_squared_error,val_loss,val_root_mean_squared_error\n",
      "63/63 [==============================] - 0s 7ms/step - loss: 1.2287 - root_mean_squared_error: 1.1084 - val_loss: 1.6112 - val_root_mean_squared_error: 1.2693\n",
      "Epoch 73/200\n",
      "55/63 [=========================>....] - ETA: 0s - loss: 1.2265 - root_mean_squared_error: 1.1075WARNING:tensorflow:Early stopping conditioned on metric `mse` which is not available. Available metrics are: loss,root_mean_squared_error,val_loss,val_root_mean_squared_error\n",
      "63/63 [==============================] - 0s 7ms/step - loss: 1.2279 - root_mean_squared_error: 1.1081 - val_loss: 1.5934 - val_root_mean_squared_error: 1.2623\n",
      "Epoch 74/200\n",
      "58/63 [==========================>...] - ETA: 0s - loss: 1.2408 - root_mean_squared_error: 1.1139WARNING:tensorflow:Early stopping conditioned on metric `mse` which is not available. Available metrics are: loss,root_mean_squared_error,val_loss,val_root_mean_squared_error\n",
      "63/63 [==============================] - 0s 7ms/step - loss: 1.2425 - root_mean_squared_error: 1.1147 - val_loss: 1.5952 - val_root_mean_squared_error: 1.2630\n",
      "Epoch 75/200\n",
      "57/63 [==========================>...] - ETA: 0s - loss: 1.2628 - root_mean_squared_error: 1.1237WARNING:tensorflow:Early stopping conditioned on metric `mse` which is not available. Available metrics are: loss,root_mean_squared_error,val_loss,val_root_mean_squared_error\n",
      "63/63 [==============================] - 0s 7ms/step - loss: 1.2578 - root_mean_squared_error: 1.1215 - val_loss: 1.6157 - val_root_mean_squared_error: 1.2711\n",
      "Epoch 76/200\n",
      "57/63 [==========================>...] - ETA: 0s - loss: 1.2395 - root_mean_squared_error: 1.1133WARNING:tensorflow:Early stopping conditioned on metric `mse` which is not available. Available metrics are: loss,root_mean_squared_error,val_loss,val_root_mean_squared_error\n",
      "63/63 [==============================] - 0s 7ms/step - loss: 1.2410 - root_mean_squared_error: 1.1140 - val_loss: 1.6209 - val_root_mean_squared_error: 1.2732\n",
      "Epoch 77/200\n",
      "57/63 [==========================>...] - ETA: 0s - loss: 1.2216 - root_mean_squared_error: 1.1053WARNING:tensorflow:Early stopping conditioned on metric `mse` which is not available. Available metrics are: loss,root_mean_squared_error,val_loss,val_root_mean_squared_error\n",
      "63/63 [==============================] - 0s 7ms/step - loss: 1.2243 - root_mean_squared_error: 1.1065 - val_loss: 1.5900 - val_root_mean_squared_error: 1.2609\n",
      "Epoch 78/200\n",
      "56/63 [=========================>....] - ETA: 0s - loss: 1.2171 - root_mean_squared_error: 1.1032WARNING:tensorflow:Early stopping conditioned on metric `mse` which is not available. Available metrics are: loss,root_mean_squared_error,val_loss,val_root_mean_squared_error\n",
      "63/63 [==============================] - 0s 7ms/step - loss: 1.2147 - root_mean_squared_error: 1.1021 - val_loss: 1.6078 - val_root_mean_squared_error: 1.2680\n",
      "Epoch 79/200\n",
      "58/63 [==========================>...] - ETA: 0s - loss: 1.2083 - root_mean_squared_error: 1.0992WARNING:tensorflow:Early stopping conditioned on metric `mse` which is not available. Available metrics are: loss,root_mean_squared_error,val_loss,val_root_mean_squared_error\n",
      "63/63 [==============================] - 0s 7ms/step - loss: 1.2061 - root_mean_squared_error: 1.0982 - val_loss: 1.6081 - val_root_mean_squared_error: 1.2681\n",
      "Epoch 80/200\n",
      "59/63 [===========================>..] - ETA: 0s - loss: 1.2135 - root_mean_squared_error: 1.1016WARNING:tensorflow:Early stopping conditioned on metric `mse` which is not available. Available metrics are: loss,root_mean_squared_error,val_loss,val_root_mean_squared_error\n",
      "63/63 [==============================] - 0s 6ms/step - loss: 1.2118 - root_mean_squared_error: 1.1008 - val_loss: 1.6227 - val_root_mean_squared_error: 1.2739\n",
      "Epoch 81/200\n",
      "59/63 [===========================>..] - ETA: 0s - loss: 1.2119 - root_mean_squared_error: 1.1009WARNING:tensorflow:Early stopping conditioned on metric `mse` which is not available. Available metrics are: loss,root_mean_squared_error,val_loss,val_root_mean_squared_error\n",
      "63/63 [==============================] - 0s 7ms/step - loss: 1.2203 - root_mean_squared_error: 1.1047 - val_loss: 1.6279 - val_root_mean_squared_error: 1.2759\n",
      "Epoch 82/200\n",
      "57/63 [==========================>...] - ETA: 0s - loss: 1.2460 - root_mean_squared_error: 1.1162WARNING:tensorflow:Early stopping conditioned on metric `mse` which is not available. Available metrics are: loss,root_mean_squared_error,val_loss,val_root_mean_squared_error\n",
      "63/63 [==============================] - 0s 7ms/step - loss: 1.2416 - root_mean_squared_error: 1.1143 - val_loss: 1.5958 - val_root_mean_squared_error: 1.2632\n",
      "Epoch 83/200\n",
      "55/63 [=========================>....] - ETA: 0s - loss: 1.2297 - root_mean_squared_error: 1.1089WARNING:tensorflow:Early stopping conditioned on metric `mse` which is not available. Available metrics are: loss,root_mean_squared_error,val_loss,val_root_mean_squared_error\n",
      "63/63 [==============================] - 0s 7ms/step - loss: 1.2316 - root_mean_squared_error: 1.1098 - val_loss: 1.6029 - val_root_mean_squared_error: 1.2661\n",
      "Epoch 84/200\n",
      "59/63 [===========================>..] - ETA: 0s - loss: 1.2249 - root_mean_squared_error: 1.1067WARNING:tensorflow:Early stopping conditioned on metric `mse` which is not available. Available metrics are: loss,root_mean_squared_error,val_loss,val_root_mean_squared_error\n",
      "63/63 [==============================] - 0s 7ms/step - loss: 1.2269 - root_mean_squared_error: 1.1077 - val_loss: 1.6101 - val_root_mean_squared_error: 1.2689\n",
      "Epoch 85/200\n",
      "55/63 [=========================>....] - ETA: 0s - loss: 1.2295 - root_mean_squared_error: 1.1088WARNING:tensorflow:Early stopping conditioned on metric `mse` which is not available. Available metrics are: loss,root_mean_squared_error,val_loss,val_root_mean_squared_error\n",
      "63/63 [==============================] - 0s 7ms/step - loss: 1.2261 - root_mean_squared_error: 1.1073 - val_loss: 1.5976 - val_root_mean_squared_error: 1.2640\n",
      "Epoch 86/200\n",
      "57/63 [==========================>...] - ETA: 0s - loss: 1.2150 - root_mean_squared_error: 1.1023WARNING:tensorflow:Early stopping conditioned on metric `mse` which is not available. Available metrics are: loss,root_mean_squared_error,val_loss,val_root_mean_squared_error\n",
      "63/63 [==============================] - 0s 7ms/step - loss: 1.2145 - root_mean_squared_error: 1.1020 - val_loss: 1.6029 - val_root_mean_squared_error: 1.2661\n",
      "Epoch 87/200\n",
      "60/63 [===========================>..] - ETA: 0s - loss: 1.2218 - root_mean_squared_error: 1.1053WARNING:tensorflow:Early stopping conditioned on metric `mse` which is not available. Available metrics are: loss,root_mean_squared_error,val_loss,val_root_mean_squared_error\n",
      "63/63 [==============================] - 0s 7ms/step - loss: 1.2204 - root_mean_squared_error: 1.1047 - val_loss: 1.5955 - val_root_mean_squared_error: 1.2631\n",
      "Epoch 88/200\n",
      "57/63 [==========================>...] - ETA: 0s - loss: 1.2082 - root_mean_squared_error: 1.0992WARNING:tensorflow:Early stopping conditioned on metric `mse` which is not available. Available metrics are: loss,root_mean_squared_error,val_loss,val_root_mean_squared_error\n",
      "63/63 [==============================] - 0s 7ms/step - loss: 1.2106 - root_mean_squared_error: 1.1003 - val_loss: 1.6210 - val_root_mean_squared_error: 1.2732\n",
      "Epoch 89/200\n",
      "58/63 [==========================>...] - ETA: 0s - loss: 1.2025 - root_mean_squared_error: 1.0966WARNING:tensorflow:Early stopping conditioned on metric `mse` which is not available. Available metrics are: loss,root_mean_squared_error,val_loss,val_root_mean_squared_error\n",
      "63/63 [==============================] - 0s 6ms/step - loss: 1.2009 - root_mean_squared_error: 1.0959 - val_loss: 1.5933 - val_root_mean_squared_error: 1.2623\n",
      "Epoch 90/200\n",
      "62/63 [============================>.] - ETA: 0s - loss: 1.2057 - root_mean_squared_error: 1.0981WARNING:tensorflow:Early stopping conditioned on metric `mse` which is not available. Available metrics are: loss,root_mean_squared_error,val_loss,val_root_mean_squared_error\n",
      "63/63 [==============================] - 0s 7ms/step - loss: 1.2048 - root_mean_squared_error: 1.0976 - val_loss: 1.6369 - val_root_mean_squared_error: 1.2794\n",
      "Epoch 91/200\n",
      "58/63 [==========================>...] - ETA: 0s - loss: 1.2201 - root_mean_squared_error: 1.1046WARNING:tensorflow:Early stopping conditioned on metric `mse` which is not available. Available metrics are: loss,root_mean_squared_error,val_loss,val_root_mean_squared_error\n",
      "63/63 [==============================] - 0s 7ms/step - loss: 1.2199 - root_mean_squared_error: 1.1045 - val_loss: 1.6191 - val_root_mean_squared_error: 1.2724\n",
      "Epoch 92/200\n",
      "56/63 [=========================>....] - ETA: 0s - loss: 1.2307 - root_mean_squared_error: 1.1094WARNING:tensorflow:Early stopping conditioned on metric `mse` which is not available. Available metrics are: loss,root_mean_squared_error,val_loss,val_root_mean_squared_error\n",
      "63/63 [==============================] - 0s 7ms/step - loss: 1.2268 - root_mean_squared_error: 1.1076 - val_loss: 1.6079 - val_root_mean_squared_error: 1.2680\n",
      "Epoch 93/200\n",
      "57/63 [==========================>...] - ETA: 0s - loss: 1.2258 - root_mean_squared_error: 1.1072WARNING:tensorflow:Early stopping conditioned on metric `mse` which is not available. Available metrics are: loss,root_mean_squared_error,val_loss,val_root_mean_squared_error\n",
      "63/63 [==============================] - 0s 7ms/step - loss: 1.2208 - root_mean_squared_error: 1.1049 - val_loss: 1.6390 - val_root_mean_squared_error: 1.2802\n",
      "Epoch 94/200\n",
      "57/63 [==========================>...] - ETA: 0s - loss: 1.2096 - root_mean_squared_error: 1.0998WARNING:tensorflow:Early stopping conditioned on metric `mse` which is not available. Available metrics are: loss,root_mean_squared_error,val_loss,val_root_mean_squared_error\n",
      "63/63 [==============================] - 0s 7ms/step - loss: 1.2106 - root_mean_squared_error: 1.1003 - val_loss: 1.6554 - val_root_mean_squared_error: 1.2866\n",
      "Epoch 95/200\n",
      "57/63 [==========================>...] - ETA: 0s - loss: 1.1993 - root_mean_squared_error: 1.0951WARNING:tensorflow:Early stopping conditioned on metric `mse` which is not available. Available metrics are: loss,root_mean_squared_error,val_loss,val_root_mean_squared_error\n",
      "63/63 [==============================] - 0s 7ms/step - loss: 1.2016 - root_mean_squared_error: 1.0962 - val_loss: 1.6537 - val_root_mean_squared_error: 1.2860\n",
      "Epoch 96/200\n",
      "56/63 [=========================>....] - ETA: 0s - loss: 1.2051 - root_mean_squared_error: 1.0978WARNING:tensorflow:Early stopping conditioned on metric `mse` which is not available. Available metrics are: loss,root_mean_squared_error,val_loss,val_root_mean_squared_error\n",
      "63/63 [==============================] - 0s 7ms/step - loss: 1.1996 - root_mean_squared_error: 1.0953 - val_loss: 1.6148 - val_root_mean_squared_error: 1.2707\n",
      "Epoch 97/200\n",
      "63/63 [==============================] - ETA: 0s - loss: 1.1889 - root_mean_squared_error: 1.0904WARNING:tensorflow:Early stopping conditioned on metric `mse` which is not available. Available metrics are: loss,root_mean_squared_error,val_loss,val_root_mean_squared_error\n",
      "63/63 [==============================] - 0s 7ms/step - loss: 1.1889 - root_mean_squared_error: 1.0904 - val_loss: 1.6375 - val_root_mean_squared_error: 1.2796\n",
      "Epoch 98/200\n",
      "57/63 [==========================>...] - ETA: 0s - loss: 1.1939 - root_mean_squared_error: 1.0926WARNING:tensorflow:Early stopping conditioned on metric `mse` which is not available. Available metrics are: loss,root_mean_squared_error,val_loss,val_root_mean_squared_error\n",
      "63/63 [==============================] - 0s 7ms/step - loss: 1.1955 - root_mean_squared_error: 1.0934 - val_loss: 1.6303 - val_root_mean_squared_error: 1.2768\n",
      "Epoch 99/200\n",
      "58/63 [==========================>...] - ETA: 0s - loss: 1.2064 - root_mean_squared_error: 1.0983WARNING:tensorflow:Early stopping conditioned on metric `mse` which is not available. Available metrics are: loss,root_mean_squared_error,val_loss,val_root_mean_squared_error\n",
      "63/63 [==============================] - 0s 7ms/step - loss: 1.2071 - root_mean_squared_error: 1.0987 - val_loss: 1.6631 - val_root_mean_squared_error: 1.2896\n",
      "Epoch 100/200\n",
      "59/63 [===========================>..] - ETA: 0s - loss: 1.2151 - root_mean_squared_error: 1.1023WARNING:tensorflow:Early stopping conditioned on metric `mse` which is not available. Available metrics are: loss,root_mean_squared_error,val_loss,val_root_mean_squared_error\n",
      "63/63 [==============================] - 0s 6ms/step - loss: 1.2223 - root_mean_squared_error: 1.1056 - val_loss: 1.6426 - val_root_mean_squared_error: 1.2816\n",
      "Epoch 101/200\n",
      "59/63 [===========================>..] - ETA: 0s - loss: 1.2113 - root_mean_squared_error: 1.1006WARNING:tensorflow:Early stopping conditioned on metric `mse` which is not available. Available metrics are: loss,root_mean_squared_error,val_loss,val_root_mean_squared_error\n",
      "63/63 [==============================] - 0s 7ms/step - loss: 1.2100 - root_mean_squared_error: 1.1000 - val_loss: 1.6118 - val_root_mean_squared_error: 1.2696\n",
      "Epoch 102/200\n",
      "55/63 [=========================>....] - ETA: 0s - loss: 1.2071 - root_mean_squared_error: 1.0987WARNING:tensorflow:Early stopping conditioned on metric `mse` which is not available. Available metrics are: loss,root_mean_squared_error,val_loss,val_root_mean_squared_error\n",
      "63/63 [==============================] - 0s 7ms/step - loss: 1.2057 - root_mean_squared_error: 1.0980 - val_loss: 1.6261 - val_root_mean_squared_error: 1.2752\n",
      "Epoch 103/200\n",
      "56/63 [=========================>....] - ETA: 0s - loss: 1.1925 - root_mean_squared_error: 1.0920WARNING:tensorflow:Early stopping conditioned on metric `mse` which is not available. Available metrics are: loss,root_mean_squared_error,val_loss,val_root_mean_squared_error\n",
      "63/63 [==============================] - 0s 7ms/step - loss: 1.1919 - root_mean_squared_error: 1.0917 - val_loss: 1.6075 - val_root_mean_squared_error: 1.2679\n",
      "Epoch 104/200\n",
      "59/63 [===========================>..] - ETA: 0s - loss: 1.1856 - root_mean_squared_error: 1.0889WARNING:tensorflow:Early stopping conditioned on metric `mse` which is not available. Available metrics are: loss,root_mean_squared_error,val_loss,val_root_mean_squared_error\n",
      "63/63 [==============================] - 0s 7ms/step - loss: 1.1857 - root_mean_squared_error: 1.0889 - val_loss: 1.6286 - val_root_mean_squared_error: 1.2762\n",
      "Epoch 105/200\n",
      "60/63 [===========================>..] - ETA: 0s - loss: 1.1837 - root_mean_squared_error: 1.0880WARNING:tensorflow:Early stopping conditioned on metric `mse` which is not available. Available metrics are: loss,root_mean_squared_error,val_loss,val_root_mean_squared_error\n",
      "63/63 [==============================] - 0s 7ms/step - loss: 1.1841 - root_mean_squared_error: 1.0882 - val_loss: 1.6394 - val_root_mean_squared_error: 1.2804\n",
      "Epoch 106/200\n",
      "58/63 [==========================>...] - ETA: 0s - loss: 1.1886 - root_mean_squared_error: 1.0902WARNING:tensorflow:Early stopping conditioned on metric `mse` which is not available. Available metrics are: loss,root_mean_squared_error,val_loss,val_root_mean_squared_error\n",
      "63/63 [==============================] - 0s 7ms/step - loss: 1.1873 - root_mean_squared_error: 1.0896 - val_loss: 1.6464 - val_root_mean_squared_error: 1.2831\n",
      "Epoch 107/200\n",
      "61/63 [============================>.] - ETA: 0s - loss: 1.2037 - root_mean_squared_error: 1.0971WARNING:tensorflow:Early stopping conditioned on metric `mse` which is not available. Available metrics are: loss,root_mean_squared_error,val_loss,val_root_mean_squared_error\n",
      "63/63 [==============================] - 0s 7ms/step - loss: 1.2016 - root_mean_squared_error: 1.0962 - val_loss: 1.6535 - val_root_mean_squared_error: 1.2859\n",
      "Epoch 108/200\n",
      "56/63 [=========================>....] - ETA: 0s - loss: 1.2181 - root_mean_squared_error: 1.1037WARNING:tensorflow:Early stopping conditioned on metric `mse` which is not available. Available metrics are: loss,root_mean_squared_error,val_loss,val_root_mean_squared_error\n",
      "63/63 [==============================] - 0s 7ms/step - loss: 1.2149 - root_mean_squared_error: 1.1022 - val_loss: 1.6413 - val_root_mean_squared_error: 1.2811\n",
      "Epoch 109/200\n",
      "62/63 [============================>.] - ETA: 0s - loss: 1.2240 - root_mean_squared_error: 1.1063WARNING:tensorflow:Early stopping conditioned on metric `mse` which is not available. Available metrics are: loss,root_mean_squared_error,val_loss,val_root_mean_squared_error\n",
      "63/63 [==============================] - 0s 7ms/step - loss: 1.2235 - root_mean_squared_error: 1.1061 - val_loss: 1.6332 - val_root_mean_squared_error: 1.2780\n",
      "Epoch 110/200\n",
      "56/63 [=========================>....] - ETA: 0s - loss: 1.2219 - root_mean_squared_error: 1.1054WARNING:tensorflow:Early stopping conditioned on metric `mse` which is not available. Available metrics are: loss,root_mean_squared_error,val_loss,val_root_mean_squared_error\n",
      "63/63 [==============================] - 0s 7ms/step - loss: 1.2149 - root_mean_squared_error: 1.1022 - val_loss: 1.6444 - val_root_mean_squared_error: 1.2823\n",
      "Epoch 111/200\n",
      "55/63 [=========================>....] - ETA: 0s - loss: 1.1917 - root_mean_squared_error: 1.0917WARNING:tensorflow:Early stopping conditioned on metric `mse` which is not available. Available metrics are: loss,root_mean_squared_error,val_loss,val_root_mean_squared_error\n",
      "63/63 [==============================] - 0s 7ms/step - loss: 1.1929 - root_mean_squared_error: 1.0922 - val_loss: 1.6368 - val_root_mean_squared_error: 1.2794\n",
      "Epoch 112/200\n",
      "63/63 [==============================] - ETA: 0s - loss: 1.1763 - root_mean_squared_error: 1.0846WARNING:tensorflow:Early stopping conditioned on metric `mse` which is not available. Available metrics are: loss,root_mean_squared_error,val_loss,val_root_mean_squared_error\n",
      "63/63 [==============================] - 0s 7ms/step - loss: 1.1763 - root_mean_squared_error: 1.0846 - val_loss: 1.6559 - val_root_mean_squared_error: 1.2868\n",
      "Epoch 113/200\n",
      "62/63 [============================>.] - ETA: 0s - loss: 1.1721 - root_mean_squared_error: 1.0826WARNING:tensorflow:Early stopping conditioned on metric `mse` which is not available. Available metrics are: loss,root_mean_squared_error,val_loss,val_root_mean_squared_error\n",
      "63/63 [==============================] - 0s 7ms/step - loss: 1.1720 - root_mean_squared_error: 1.0826 - val_loss: 1.6255 - val_root_mean_squared_error: 1.2750\n",
      "Epoch 114/200\n",
      "56/63 [=========================>....] - ETA: 0s - loss: 1.1710 - root_mean_squared_error: 1.0822WARNING:tensorflow:Early stopping conditioned on metric `mse` which is not available. Available metrics are: loss,root_mean_squared_error,val_loss,val_root_mean_squared_error\n",
      "63/63 [==============================] - 1s 8ms/step - loss: 1.1699 - root_mean_squared_error: 1.0816 - val_loss: 1.6583 - val_root_mean_squared_error: 1.2878\n",
      "Epoch 115/200\n",
      "60/63 [===========================>..] - ETA: 0s - loss: 1.1879 - root_mean_squared_error: 1.0899WARNING:tensorflow:Early stopping conditioned on metric `mse` which is not available. Available metrics are: loss,root_mean_squared_error,val_loss,val_root_mean_squared_error\n",
      "63/63 [==============================] - 0s 7ms/step - loss: 1.1857 - root_mean_squared_error: 1.0889 - val_loss: 1.6359 - val_root_mean_squared_error: 1.2790\n",
      "Epoch 116/200\n",
      "61/63 [============================>.] - ETA: 0s - loss: 1.1820 - root_mean_squared_error: 1.0872WARNING:tensorflow:Early stopping conditioned on metric `mse` which is not available. Available metrics are: loss,root_mean_squared_error,val_loss,val_root_mean_squared_error\n",
      "63/63 [==============================] - 0s 7ms/step - loss: 1.1827 - root_mean_squared_error: 1.0875 - val_loss: 1.6887 - val_root_mean_squared_error: 1.2995\n",
      "Epoch 117/200\n",
      "58/63 [==========================>...] - ETA: 0s - loss: 1.1867 - root_mean_squared_error: 1.0893WARNING:tensorflow:Early stopping conditioned on metric `mse` which is not available. Available metrics are: loss,root_mean_squared_error,val_loss,val_root_mean_squared_error\n",
      "63/63 [==============================] - 0s 8ms/step - loss: 1.1880 - root_mean_squared_error: 1.0900 - val_loss: 1.6433 - val_root_mean_squared_error: 1.2819\n",
      "Epoch 118/200\n",
      "58/63 [==========================>...] - ETA: 0s - loss: 1.1967 - root_mean_squared_error: 1.0939WARNING:tensorflow:Early stopping conditioned on metric `mse` which is not available. Available metrics are: loss,root_mean_squared_error,val_loss,val_root_mean_squared_error\n",
      "63/63 [==============================] - 0s 8ms/step - loss: 1.1996 - root_mean_squared_error: 1.0953 - val_loss: 1.6295 - val_root_mean_squared_error: 1.2765\n",
      "Epoch 119/200\n",
      "60/63 [===========================>..] - ETA: 0s - loss: 1.1994 - root_mean_squared_error: 1.0952WARNING:tensorflow:Early stopping conditioned on metric `mse` which is not available. Available metrics are: loss,root_mean_squared_error,val_loss,val_root_mean_squared_error\n",
      "63/63 [==============================] - 0s 7ms/step - loss: 1.1985 - root_mean_squared_error: 1.0947 - val_loss: 1.6499 - val_root_mean_squared_error: 1.2845\n",
      "Epoch 120/200\n",
      "55/63 [=========================>....] - ETA: 0s - loss: 1.1767 - root_mean_squared_error: 1.0848WARNING:tensorflow:Early stopping conditioned on metric `mse` which is not available. Available metrics are: loss,root_mean_squared_error,val_loss,val_root_mean_squared_error\n",
      "63/63 [==============================] - 0s 7ms/step - loss: 1.1815 - root_mean_squared_error: 1.0870 - val_loss: 1.6544 - val_root_mean_squared_error: 1.2862\n",
      "Epoch 121/200\n",
      "57/63 [==========================>...] - ETA: 0s - loss: 1.1773 - root_mean_squared_error: 1.0850WARNING:tensorflow:Early stopping conditioned on metric `mse` which is not available. Available metrics are: loss,root_mean_squared_error,val_loss,val_root_mean_squared_error\n",
      "63/63 [==============================] - 0s 7ms/step - loss: 1.1767 - root_mean_squared_error: 1.0848 - val_loss: 1.6507 - val_root_mean_squared_error: 1.2848\n",
      "Epoch 122/200\n",
      "61/63 [============================>.] - ETA: 0s - loss: 1.1824 - root_mean_squared_error: 1.0874WARNING:tensorflow:Early stopping conditioned on metric `mse` which is not available. Available metrics are: loss,root_mean_squared_error,val_loss,val_root_mean_squared_error\n",
      "63/63 [==============================] - 0s 7ms/step - loss: 1.1826 - root_mean_squared_error: 1.0875 - val_loss: 1.6831 - val_root_mean_squared_error: 1.2973\n",
      "Epoch 123/200\n",
      "63/63 [==============================] - ETA: 0s - loss: 1.1876 - root_mean_squared_error: 1.0898WARNING:tensorflow:Early stopping conditioned on metric `mse` which is not available. Available metrics are: loss,root_mean_squared_error,val_loss,val_root_mean_squared_error\n",
      "63/63 [==============================] - 0s 7ms/step - loss: 1.1876 - root_mean_squared_error: 1.0898 - val_loss: 1.6647 - val_root_mean_squared_error: 1.2902\n",
      "Epoch 124/200\n",
      "56/63 [=========================>....] - ETA: 0s - loss: 1.2304 - root_mean_squared_error: 1.1092WARNING:tensorflow:Early stopping conditioned on metric `mse` which is not available. Available metrics are: loss,root_mean_squared_error,val_loss,val_root_mean_squared_error\n",
      "63/63 [==============================] - 0s 7ms/step - loss: 1.2263 - root_mean_squared_error: 1.1074 - val_loss: 1.6638 - val_root_mean_squared_error: 1.2899\n",
      "Epoch 125/200\n",
      "55/63 [=========================>....] - ETA: 0s - loss: 1.1946 - root_mean_squared_error: 1.0930WARNING:tensorflow:Early stopping conditioned on metric `mse` which is not available. Available metrics are: loss,root_mean_squared_error,val_loss,val_root_mean_squared_error\n",
      "63/63 [==============================] - 0s 7ms/step - loss: 1.1945 - root_mean_squared_error: 1.0929 - val_loss: 1.6257 - val_root_mean_squared_error: 1.2750\n",
      "Epoch 126/200\n",
      "55/63 [=========================>....] - ETA: 0s - loss: 1.1796 - root_mean_squared_error: 1.0861WARNING:tensorflow:Early stopping conditioned on metric `mse` which is not available. Available metrics are: loss,root_mean_squared_error,val_loss,val_root_mean_squared_error\n",
      "63/63 [==============================] - 0s 7ms/step - loss: 1.1854 - root_mean_squared_error: 1.0888 - val_loss: 1.6499 - val_root_mean_squared_error: 1.2845\n",
      "Epoch 127/200\n",
      "62/63 [============================>.] - ETA: 0s - loss: 1.1807 - root_mean_squared_error: 1.0866WARNING:tensorflow:Early stopping conditioned on metric `mse` which is not available. Available metrics are: loss,root_mean_squared_error,val_loss,val_root_mean_squared_error\n",
      "63/63 [==============================] - 0s 7ms/step - loss: 1.1802 - root_mean_squared_error: 1.0864 - val_loss: 1.6432 - val_root_mean_squared_error: 1.2819\n",
      "Epoch 128/200\n",
      "62/63 [============================>.] - ETA: 0s - loss: 1.1721 - root_mean_squared_error: 1.0826WARNING:tensorflow:Early stopping conditioned on metric `mse` which is not available. Available metrics are: loss,root_mean_squared_error,val_loss,val_root_mean_squared_error\n",
      "63/63 [==============================] - 0s 7ms/step - loss: 1.1717 - root_mean_squared_error: 1.0824 - val_loss: 1.6528 - val_root_mean_squared_error: 1.2856\n",
      "Epoch 129/200\n",
      "55/63 [=========================>....] - ETA: 0s - loss: 1.1677 - root_mean_squared_error: 1.0806WARNING:tensorflow:Early stopping conditioned on metric `mse` which is not available. Available metrics are: loss,root_mean_squared_error,val_loss,val_root_mean_squared_error\n",
      "63/63 [==============================] - 0s 7ms/step - loss: 1.1670 - root_mean_squared_error: 1.0803 - val_loss: 1.6502 - val_root_mean_squared_error: 1.2846\n",
      "Epoch 130/200\n",
      "56/63 [=========================>....] - ETA: 0s - loss: 1.1571 - root_mean_squared_error: 1.0757WARNING:tensorflow:Early stopping conditioned on metric `mse` which is not available. Available metrics are: loss,root_mean_squared_error,val_loss,val_root_mean_squared_error\n",
      "63/63 [==============================] - 0s 7ms/step - loss: 1.1657 - root_mean_squared_error: 1.0797 - val_loss: 1.6684 - val_root_mean_squared_error: 1.2917\n",
      "Epoch 131/200\n",
      "62/63 [============================>.] - ETA: 0s - loss: 1.1686 - root_mean_squared_error: 1.0810WARNING:tensorflow:Early stopping conditioned on metric `mse` which is not available. Available metrics are: loss,root_mean_squared_error,val_loss,val_root_mean_squared_error\n",
      "63/63 [==============================] - 1s 8ms/step - loss: 1.1681 - root_mean_squared_error: 1.0808 - val_loss: 1.6694 - val_root_mean_squared_error: 1.2921\n",
      "Epoch 132/200\n",
      "58/63 [==========================>...] - ETA: 0s - loss: 1.1714 - root_mean_squared_error: 1.0823WARNING:tensorflow:Early stopping conditioned on metric `mse` which is not available. Available metrics are: loss,root_mean_squared_error,val_loss,val_root_mean_squared_error\n",
      "63/63 [==============================] - 0s 8ms/step - loss: 1.1717 - root_mean_squared_error: 1.0824 - val_loss: 1.6763 - val_root_mean_squared_error: 1.2947\n",
      "Epoch 133/200\n",
      "61/63 [============================>.] - ETA: 0s - loss: 1.1783 - root_mean_squared_error: 1.0855WARNING:tensorflow:Early stopping conditioned on metric `mse` which is not available. Available metrics are: loss,root_mean_squared_error,val_loss,val_root_mean_squared_error\n",
      "63/63 [==============================] - 1s 9ms/step - loss: 1.1790 - root_mean_squared_error: 1.0858 - val_loss: 1.6858 - val_root_mean_squared_error: 1.2984\n",
      "Epoch 134/200\n",
      "57/63 [==========================>...] - ETA: 0s - loss: 1.1814 - root_mean_squared_error: 1.0869WARNING:tensorflow:Early stopping conditioned on metric `mse` which is not available. Available metrics are: loss,root_mean_squared_error,val_loss,val_root_mean_squared_error\n",
      "63/63 [==============================] - 0s 8ms/step - loss: 1.1867 - root_mean_squared_error: 1.0893 - val_loss: 1.6773 - val_root_mean_squared_error: 1.2951\n",
      "Epoch 135/200\n",
      "61/63 [============================>.] - ETA: 0s - loss: 1.1800 - root_mean_squared_error: 1.0863WARNING:tensorflow:Early stopping conditioned on metric `mse` which is not available. Available metrics are: loss,root_mean_squared_error,val_loss,val_root_mean_squared_error\n",
      "63/63 [==============================] - 0s 7ms/step - loss: 1.1804 - root_mean_squared_error: 1.0865 - val_loss: 1.6613 - val_root_mean_squared_error: 1.2889\n",
      "Epoch 136/200\n",
      "63/63 [==============================] - ETA: 0s - loss: 1.1764 - root_mean_squared_error: 1.0846WARNING:tensorflow:Early stopping conditioned on metric `mse` which is not available. Available metrics are: loss,root_mean_squared_error,val_loss,val_root_mean_squared_error\n",
      "63/63 [==============================] - 0s 7ms/step - loss: 1.1764 - root_mean_squared_error: 1.0846 - val_loss: 1.6870 - val_root_mean_squared_error: 1.2988\n",
      "Epoch 137/200\n",
      "57/63 [==========================>...] - ETA: 0s - loss: 1.1817 - root_mean_squared_error: 1.0870WARNING:tensorflow:Early stopping conditioned on metric `mse` which is not available. Available metrics are: loss,root_mean_squared_error,val_loss,val_root_mean_squared_error\n",
      "63/63 [==============================] - 0s 7ms/step - loss: 1.1797 - root_mean_squared_error: 1.0861 - val_loss: 1.6700 - val_root_mean_squared_error: 1.2923\n",
      "Epoch 138/200\n",
      "61/63 [============================>.] - ETA: 0s - loss: 1.1730 - root_mean_squared_error: 1.0830WARNING:tensorflow:Early stopping conditioned on metric `mse` which is not available. Available metrics are: loss,root_mean_squared_error,val_loss,val_root_mean_squared_error\n",
      "63/63 [==============================] - 0s 6ms/step - loss: 1.1722 - root_mean_squared_error: 1.0827 - val_loss: 1.6703 - val_root_mean_squared_error: 1.2924\n",
      "Epoch 139/200\n",
      "61/63 [============================>.] - ETA: 0s - loss: 1.1723 - root_mean_squared_error: 1.0827WARNING:tensorflow:Early stopping conditioned on metric `mse` which is not available. Available metrics are: loss,root_mean_squared_error,val_loss,val_root_mean_squared_error\n",
      "63/63 [==============================] - 0s 6ms/step - loss: 1.1721 - root_mean_squared_error: 1.0826 - val_loss: 1.6528 - val_root_mean_squared_error: 1.2856\n",
      "Epoch 140/200\n",
      "61/63 [============================>.] - ETA: 0s - loss: 1.1707 - root_mean_squared_error: 1.0820WARNING:tensorflow:Early stopping conditioned on metric `mse` which is not available. Available metrics are: loss,root_mean_squared_error,val_loss,val_root_mean_squared_error\n",
      "63/63 [==============================] - 0s 7ms/step - loss: 1.1718 - root_mean_squared_error: 1.0825 - val_loss: 1.6864 - val_root_mean_squared_error: 1.2986\n",
      "Epoch 141/200\n",
      "59/63 [===========================>..] - ETA: 0s - loss: 1.1625 - root_mean_squared_error: 1.0782WARNING:tensorflow:Early stopping conditioned on metric `mse` which is not available. Available metrics are: loss,root_mean_squared_error,val_loss,val_root_mean_squared_error\n",
      "63/63 [==============================] - 0s 6ms/step - loss: 1.1637 - root_mean_squared_error: 1.0787 - val_loss: 1.6648 - val_root_mean_squared_error: 1.2903\n",
      "Epoch 142/200\n",
      "58/63 [==========================>...] - ETA: 0s - loss: 1.1681 - root_mean_squared_error: 1.0808WARNING:tensorflow:Early stopping conditioned on metric `mse` which is not available. Available metrics are: loss,root_mean_squared_error,val_loss,val_root_mean_squared_error\n",
      "63/63 [==============================] - 0s 7ms/step - loss: 1.1683 - root_mean_squared_error: 1.0809 - val_loss: 1.6861 - val_root_mean_squared_error: 1.2985\n",
      "Epoch 143/200\n",
      "58/63 [==========================>...] - ETA: 0s - loss: 1.1645 - root_mean_squared_error: 1.0791WARNING:tensorflow:Early stopping conditioned on metric `mse` which is not available. Available metrics are: loss,root_mean_squared_error,val_loss,val_root_mean_squared_error\n",
      "63/63 [==============================] - 0s 8ms/step - loss: 1.1635 - root_mean_squared_error: 1.0787 - val_loss: 1.6861 - val_root_mean_squared_error: 1.2985\n",
      "Epoch 144/200\n",
      "59/63 [===========================>..] - ETA: 0s - loss: 1.1716 - root_mean_squared_error: 1.0824WARNING:tensorflow:Early stopping conditioned on metric `mse` which is not available. Available metrics are: loss,root_mean_squared_error,val_loss,val_root_mean_squared_error\n",
      "63/63 [==============================] - 0s 7ms/step - loss: 1.1694 - root_mean_squared_error: 1.0814 - val_loss: 1.6782 - val_root_mean_squared_error: 1.2955\n",
      "Epoch 145/200\n",
      "61/63 [============================>.] - ETA: 0s - loss: 1.1710 - root_mean_squared_error: 1.0821WARNING:tensorflow:Early stopping conditioned on metric `mse` which is not available. Available metrics are: loss,root_mean_squared_error,val_loss,val_root_mean_squared_error\n",
      "63/63 [==============================] - 0s 7ms/step - loss: 1.1700 - root_mean_squared_error: 1.0817 - val_loss: 1.6734 - val_root_mean_squared_error: 1.2936\n",
      "Epoch 146/200\n",
      "61/63 [============================>.] - ETA: 0s - loss: 1.1668 - root_mean_squared_error: 1.0802WARNING:tensorflow:Early stopping conditioned on metric `mse` which is not available. Available metrics are: loss,root_mean_squared_error,val_loss,val_root_mean_squared_error\n",
      "63/63 [==============================] - 0s 6ms/step - loss: 1.1658 - root_mean_squared_error: 1.0797 - val_loss: 1.6863 - val_root_mean_squared_error: 1.2986\n",
      "Epoch 147/200\n",
      "61/63 [============================>.] - ETA: 0s - loss: 1.1643 - root_mean_squared_error: 1.0790WARNING:tensorflow:Early stopping conditioned on metric `mse` which is not available. Available metrics are: loss,root_mean_squared_error,val_loss,val_root_mean_squared_error\n",
      "63/63 [==============================] - 0s 6ms/step - loss: 1.1643 - root_mean_squared_error: 1.0790 - val_loss: 1.6718 - val_root_mean_squared_error: 1.2930\n",
      "Epoch 148/200\n",
      "63/63 [==============================] - ETA: 0s - loss: 1.1599 - root_mean_squared_error: 1.0770WARNING:tensorflow:Early stopping conditioned on metric `mse` which is not available. Available metrics are: loss,root_mean_squared_error,val_loss,val_root_mean_squared_error\n",
      "63/63 [==============================] - 0s 6ms/step - loss: 1.1599 - root_mean_squared_error: 1.0770 - val_loss: 1.6828 - val_root_mean_squared_error: 1.2972\n",
      "Epoch 149/200\n",
      "58/63 [==========================>...] - ETA: 0s - loss: 1.1612 - root_mean_squared_error: 1.0776WARNING:tensorflow:Early stopping conditioned on metric `mse` which is not available. Available metrics are: loss,root_mean_squared_error,val_loss,val_root_mean_squared_error\n",
      "63/63 [==============================] - 0s 6ms/step - loss: 1.1598 - root_mean_squared_error: 1.0770 - val_loss: 1.6857 - val_root_mean_squared_error: 1.2984\n",
      "Epoch 150/200\n",
      "62/63 [============================>.] - ETA: 0s - loss: 1.1564 - root_mean_squared_error: 1.0753WARNING:tensorflow:Early stopping conditioned on metric `mse` which is not available. Available metrics are: loss,root_mean_squared_error,val_loss,val_root_mean_squared_error\n",
      "63/63 [==============================] - 0s 6ms/step - loss: 1.1611 - root_mean_squared_error: 1.0775 - val_loss: 1.7056 - val_root_mean_squared_error: 1.3060\n",
      "Epoch 151/200\n",
      "58/63 [==========================>...] - ETA: 0s - loss: 1.1686 - root_mean_squared_error: 1.0810WARNING:tensorflow:Early stopping conditioned on metric `mse` which is not available. Available metrics are: loss,root_mean_squared_error,val_loss,val_root_mean_squared_error\n",
      "63/63 [==============================] - 0s 6ms/step - loss: 1.1717 - root_mean_squared_error: 1.0824 - val_loss: 1.7032 - val_root_mean_squared_error: 1.3051\n",
      "Epoch 152/200\n",
      "61/63 [============================>.] - ETA: 0s - loss: 1.1944 - root_mean_squared_error: 1.0929WARNING:tensorflow:Early stopping conditioned on metric `mse` which is not available. Available metrics are: loss,root_mean_squared_error,val_loss,val_root_mean_squared_error\n",
      "63/63 [==============================] - 0s 6ms/step - loss: 1.1930 - root_mean_squared_error: 1.0922 - val_loss: 1.6873 - val_root_mean_squared_error: 1.2990\n",
      "Epoch 153/200\n",
      "57/63 [==========================>...] - ETA: 0s - loss: 1.1484 - root_mean_squared_error: 1.0717WARNING:tensorflow:Early stopping conditioned on metric `mse` which is not available. Available metrics are: loss,root_mean_squared_error,val_loss,val_root_mean_squared_error\n",
      "63/63 [==============================] - 0s 6ms/step - loss: 1.1520 - root_mean_squared_error: 1.0733 - val_loss: 1.6886 - val_root_mean_squared_error: 1.2995\n",
      "Epoch 154/200\n",
      "61/63 [============================>.] - ETA: 0s - loss: 1.1506 - root_mean_squared_error: 1.0727WARNING:tensorflow:Early stopping conditioned on metric `mse` which is not available. Available metrics are: loss,root_mean_squared_error,val_loss,val_root_mean_squared_error\n",
      "63/63 [==============================] - 0s 6ms/step - loss: 1.1499 - root_mean_squared_error: 1.0723 - val_loss: 1.6802 - val_root_mean_squared_error: 1.2962\n",
      "Epoch 155/200\n",
      "61/63 [============================>.] - ETA: 0s - loss: 1.1511 - root_mean_squared_error: 1.0729WARNING:tensorflow:Early stopping conditioned on metric `mse` which is not available. Available metrics are: loss,root_mean_squared_error,val_loss,val_root_mean_squared_error\n",
      "63/63 [==============================] - 0s 6ms/step - loss: 1.1524 - root_mean_squared_error: 1.0735 - val_loss: 1.7052 - val_root_mean_squared_error: 1.3058\n",
      "Epoch 156/200\n",
      "58/63 [==========================>...] - ETA: 0s - loss: 1.1518 - root_mean_squared_error: 1.0732WARNING:tensorflow:Early stopping conditioned on metric `mse` which is not available. Available metrics are: loss,root_mean_squared_error,val_loss,val_root_mean_squared_error\n",
      "63/63 [==============================] - 0s 6ms/step - loss: 1.1496 - root_mean_squared_error: 1.0722 - val_loss: 1.6897 - val_root_mean_squared_error: 1.2999\n",
      "Epoch 157/200\n",
      "58/63 [==========================>...] - ETA: 0s - loss: 1.1493 - root_mean_squared_error: 1.0720WARNING:tensorflow:Early stopping conditioned on metric `mse` which is not available. Available metrics are: loss,root_mean_squared_error,val_loss,val_root_mean_squared_error\n",
      "63/63 [==============================] - 0s 6ms/step - loss: 1.1505 - root_mean_squared_error: 1.0726 - val_loss: 1.7067 - val_root_mean_squared_error: 1.3064\n",
      "Epoch 158/200\n",
      "60/63 [===========================>..] - ETA: 0s - loss: 1.1461 - root_mean_squared_error: 1.0706WARNING:tensorflow:Early stopping conditioned on metric `mse` which is not available. Available metrics are: loss,root_mean_squared_error,val_loss,val_root_mean_squared_error\n",
      "63/63 [==============================] - 0s 6ms/step - loss: 1.1515 - root_mean_squared_error: 1.0731 - val_loss: 1.6959 - val_root_mean_squared_error: 1.3023\n",
      "Epoch 159/200\n",
      "61/63 [============================>.] - ETA: 0s - loss: 1.1534 - root_mean_squared_error: 1.0739WARNING:tensorflow:Early stopping conditioned on metric `mse` which is not available. Available metrics are: loss,root_mean_squared_error,val_loss,val_root_mean_squared_error\n",
      "63/63 [==============================] - 0s 6ms/step - loss: 1.1528 - root_mean_squared_error: 1.0737 - val_loss: 1.7225 - val_root_mean_squared_error: 1.3124\n",
      "Epoch 160/200\n",
      "58/63 [==========================>...] - ETA: 0s - loss: 1.1494 - root_mean_squared_error: 1.0721WARNING:tensorflow:Early stopping conditioned on metric `mse` which is not available. Available metrics are: loss,root_mean_squared_error,val_loss,val_root_mean_squared_error\n",
      "63/63 [==============================] - 0s 6ms/step - loss: 1.1499 - root_mean_squared_error: 1.0723 - val_loss: 1.7175 - val_root_mean_squared_error: 1.3105\n",
      "Epoch 161/200\n",
      "58/63 [==========================>...] - ETA: 0s - loss: 1.1484 - root_mean_squared_error: 1.0716WARNING:tensorflow:Early stopping conditioned on metric `mse` which is not available. Available metrics are: loss,root_mean_squared_error,val_loss,val_root_mean_squared_error\n",
      "63/63 [==============================] - 0s 6ms/step - loss: 1.1491 - root_mean_squared_error: 1.0720 - val_loss: 1.7018 - val_root_mean_squared_error: 1.3045\n",
      "Epoch 162/200\n",
      "62/63 [============================>.] - ETA: 0s - loss: 1.1455 - root_mean_squared_error: 1.0703WARNING:tensorflow:Early stopping conditioned on metric `mse` which is not available. Available metrics are: loss,root_mean_squared_error,val_loss,val_root_mean_squared_error\n",
      "63/63 [==============================] - 0s 6ms/step - loss: 1.1462 - root_mean_squared_error: 1.0706 - val_loss: 1.6869 - val_root_mean_squared_error: 1.2988\n",
      "Epoch 163/200\n",
      "60/63 [===========================>..] - ETA: 0s - loss: 1.1535 - root_mean_squared_error: 1.0740WARNING:tensorflow:Early stopping conditioned on metric `mse` which is not available. Available metrics are: loss,root_mean_squared_error,val_loss,val_root_mean_squared_error\n",
      "63/63 [==============================] - 0s 6ms/step - loss: 1.1516 - root_mean_squared_error: 1.0731 - val_loss: 1.7040 - val_root_mean_squared_error: 1.3054\n",
      "Epoch 164/200\n",
      "61/63 [============================>.] - ETA: 0s - loss: 1.1430 - root_mean_squared_error: 1.0691WARNING:tensorflow:Early stopping conditioned on metric `mse` which is not available. Available metrics are: loss,root_mean_squared_error,val_loss,val_root_mean_squared_error\n",
      "63/63 [==============================] - 0s 6ms/step - loss: 1.1433 - root_mean_squared_error: 1.0692 - val_loss: 1.7027 - val_root_mean_squared_error: 1.3049\n",
      "Epoch 165/200\n",
      "55/63 [=========================>....] - ETA: 0s - loss: 1.1471 - root_mean_squared_error: 1.0710WARNING:tensorflow:Early stopping conditioned on metric `mse` which is not available. Available metrics are: loss,root_mean_squared_error,val_loss,val_root_mean_squared_error\n",
      "63/63 [==============================] - 0s 7ms/step - loss: 1.1452 - root_mean_squared_error: 1.0701 - val_loss: 1.7042 - val_root_mean_squared_error: 1.3055\n",
      "Epoch 166/200\n",
      "61/63 [============================>.] - ETA: 0s - loss: 1.1495 - root_mean_squared_error: 1.0722WARNING:tensorflow:Early stopping conditioned on metric `mse` which is not available. Available metrics are: loss,root_mean_squared_error,val_loss,val_root_mean_squared_error\n",
      "63/63 [==============================] - 0s 6ms/step - loss: 1.1494 - root_mean_squared_error: 1.0721 - val_loss: 1.7037 - val_root_mean_squared_error: 1.3053\n",
      "Epoch 167/200\n",
      "62/63 [============================>.] - ETA: 0s - loss: 1.1631 - root_mean_squared_error: 1.0785WARNING:tensorflow:Early stopping conditioned on metric `mse` which is not available. Available metrics are: loss,root_mean_squared_error,val_loss,val_root_mean_squared_error\n",
      "63/63 [==============================] - 0s 6ms/step - loss: 1.1625 - root_mean_squared_error: 1.0782 - val_loss: 1.7081 - val_root_mean_squared_error: 1.3069\n",
      "Epoch 168/200\n",
      "61/63 [============================>.] - ETA: 0s - loss: 1.1745 - root_mean_squared_error: 1.0838WARNING:tensorflow:Early stopping conditioned on metric `mse` which is not available. Available metrics are: loss,root_mean_squared_error,val_loss,val_root_mean_squared_error\n",
      "63/63 [==============================] - 0s 6ms/step - loss: 1.1724 - root_mean_squared_error: 1.0828 - val_loss: 1.7207 - val_root_mean_squared_error: 1.3117\n",
      "Epoch 169/200\n",
      "62/63 [============================>.] - ETA: 0s - loss: 1.1572 - root_mean_squared_error: 1.0758WARNING:tensorflow:Early stopping conditioned on metric `mse` which is not available. Available metrics are: loss,root_mean_squared_error,val_loss,val_root_mean_squared_error\n",
      "63/63 [==============================] - 0s 7ms/step - loss: 1.1587 - root_mean_squared_error: 1.0764 - val_loss: 1.7042 - val_root_mean_squared_error: 1.3054\n",
      "Epoch 170/200\n",
      "61/63 [============================>.] - ETA: 0s - loss: 1.1598 - root_mean_squared_error: 1.0770WARNING:tensorflow:Early stopping conditioned on metric `mse` which is not available. Available metrics are: loss,root_mean_squared_error,val_loss,val_root_mean_squared_error\n",
      "63/63 [==============================] - 0s 6ms/step - loss: 1.1594 - root_mean_squared_error: 1.0767 - val_loss: 1.7128 - val_root_mean_squared_error: 1.3087\n",
      "Epoch 171/200\n",
      "61/63 [============================>.] - ETA: 0s - loss: 1.1548 - root_mean_squared_error: 1.0746WARNING:tensorflow:Early stopping conditioned on metric `mse` which is not available. Available metrics are: loss,root_mean_squared_error,val_loss,val_root_mean_squared_error\n",
      "63/63 [==============================] - 0s 6ms/step - loss: 1.1568 - root_mean_squared_error: 1.0756 - val_loss: 1.6962 - val_root_mean_squared_error: 1.3024\n",
      "Epoch 172/200\n",
      "61/63 [============================>.] - ETA: 0s - loss: 1.1484 - root_mean_squared_error: 1.0716WARNING:tensorflow:Early stopping conditioned on metric `mse` which is not available. Available metrics are: loss,root_mean_squared_error,val_loss,val_root_mean_squared_error\n",
      "63/63 [==============================] - 0s 6ms/step - loss: 1.1476 - root_mean_squared_error: 1.0713 - val_loss: 1.6918 - val_root_mean_squared_error: 1.3007\n",
      "Epoch 173/200\n",
      "57/63 [==========================>...] - ETA: 0s - loss: 1.1365 - root_mean_squared_error: 1.0661WARNING:tensorflow:Early stopping conditioned on metric `mse` which is not available. Available metrics are: loss,root_mean_squared_error,val_loss,val_root_mean_squared_error\n",
      "63/63 [==============================] - 0s 6ms/step - loss: 1.1371 - root_mean_squared_error: 1.0664 - val_loss: 1.6926 - val_root_mean_squared_error: 1.3010\n",
      "Epoch 174/200\n",
      "58/63 [==========================>...] - ETA: 0s - loss: 1.1381 - root_mean_squared_error: 1.0668WARNING:tensorflow:Early stopping conditioned on metric `mse` which is not available. Available metrics are: loss,root_mean_squared_error,val_loss,val_root_mean_squared_error\n",
      "63/63 [==============================] - 0s 6ms/step - loss: 1.1384 - root_mean_squared_error: 1.0670 - val_loss: 1.7101 - val_root_mean_squared_error: 1.3077\n",
      "Epoch 175/200\n",
      "60/63 [===========================>..] - ETA: 0s - loss: 1.1321 - root_mean_squared_error: 1.0640WARNING:tensorflow:Early stopping conditioned on metric `mse` which is not available. Available metrics are: loss,root_mean_squared_error,val_loss,val_root_mean_squared_error\n",
      "63/63 [==============================] - 0s 6ms/step - loss: 1.1333 - root_mean_squared_error: 1.0646 - val_loss: 1.7131 - val_root_mean_squared_error: 1.3088\n",
      "Epoch 176/200\n",
      "61/63 [============================>.] - ETA: 0s - loss: 1.1399 - root_mean_squared_error: 1.0677WARNING:tensorflow:Early stopping conditioned on metric `mse` which is not available. Available metrics are: loss,root_mean_squared_error,val_loss,val_root_mean_squared_error\n",
      "63/63 [==============================] - 0s 6ms/step - loss: 1.1386 - root_mean_squared_error: 1.0670 - val_loss: 1.7067 - val_root_mean_squared_error: 1.3064\n",
      "Epoch 177/200\n",
      "59/63 [===========================>..] - ETA: 0s - loss: 1.1393 - root_mean_squared_error: 1.0674WARNING:tensorflow:Early stopping conditioned on metric `mse` which is not available. Available metrics are: loss,root_mean_squared_error,val_loss,val_root_mean_squared_error\n",
      "63/63 [==============================] - 0s 6ms/step - loss: 1.1377 - root_mean_squared_error: 1.0666 - val_loss: 1.7357 - val_root_mean_squared_error: 1.3174\n",
      "Epoch 178/200\n",
      "58/63 [==========================>...] - ETA: 0s - loss: 1.1379 - root_mean_squared_error: 1.0667WARNING:tensorflow:Early stopping conditioned on metric `mse` which is not available. Available metrics are: loss,root_mean_squared_error,val_loss,val_root_mean_squared_error\n",
      "63/63 [==============================] - 0s 6ms/step - loss: 1.1372 - root_mean_squared_error: 1.0664 - val_loss: 1.7220 - val_root_mean_squared_error: 1.3122\n",
      "Epoch 179/200\n",
      "61/63 [============================>.] - ETA: 0s - loss: 1.1330 - root_mean_squared_error: 1.0644WARNING:tensorflow:Early stopping conditioned on metric `mse` which is not available. Available metrics are: loss,root_mean_squared_error,val_loss,val_root_mean_squared_error\n",
      "63/63 [==============================] - 0s 6ms/step - loss: 1.1332 - root_mean_squared_error: 1.0645 - val_loss: 1.7299 - val_root_mean_squared_error: 1.3153\n",
      "Epoch 180/200\n",
      "59/63 [===========================>..] - ETA: 0s - loss: 1.1266 - root_mean_squared_error: 1.0614WARNING:tensorflow:Early stopping conditioned on metric `mse` which is not available. Available metrics are: loss,root_mean_squared_error,val_loss,val_root_mean_squared_error\n",
      "63/63 [==============================] - 0s 6ms/step - loss: 1.1267 - root_mean_squared_error: 1.0615 - val_loss: 1.7225 - val_root_mean_squared_error: 1.3124\n",
      "Epoch 181/200\n",
      "61/63 [============================>.] - ETA: 0s - loss: 1.1252 - root_mean_squared_error: 1.0608WARNING:tensorflow:Early stopping conditioned on metric `mse` which is not available. Available metrics are: loss,root_mean_squared_error,val_loss,val_root_mean_squared_error\n",
      "63/63 [==============================] - 0s 6ms/step - loss: 1.1259 - root_mean_squared_error: 1.0611 - val_loss: 1.7538 - val_root_mean_squared_error: 1.3243\n",
      "Epoch 182/200\n",
      "58/63 [==========================>...] - ETA: 0s - loss: 1.1333 - root_mean_squared_error: 1.0646WARNING:tensorflow:Early stopping conditioned on metric `mse` which is not available. Available metrics are: loss,root_mean_squared_error,val_loss,val_root_mean_squared_error\n",
      "63/63 [==============================] - 0s 6ms/step - loss: 1.1350 - root_mean_squared_error: 1.0654 - val_loss: 1.7494 - val_root_mean_squared_error: 1.3227\n",
      "Epoch 183/200\n",
      "61/63 [============================>.] - ETA: 0s - loss: 1.1443 - root_mean_squared_error: 1.0697WARNING:tensorflow:Early stopping conditioned on metric `mse` which is not available. Available metrics are: loss,root_mean_squared_error,val_loss,val_root_mean_squared_error\n",
      "63/63 [==============================] - 0s 6ms/step - loss: 1.1526 - root_mean_squared_error: 1.0736 - val_loss: 1.7628 - val_root_mean_squared_error: 1.3277\n",
      "Epoch 184/200\n",
      "57/63 [==========================>...] - ETA: 0s - loss: 1.1684 - root_mean_squared_error: 1.0809WARNING:tensorflow:Early stopping conditioned on metric `mse` which is not available. Available metrics are: loss,root_mean_squared_error,val_loss,val_root_mean_squared_error\n",
      "63/63 [==============================] - 0s 6ms/step - loss: 1.1675 - root_mean_squared_error: 1.0805 - val_loss: 1.7577 - val_root_mean_squared_error: 1.3258\n",
      "Epoch 185/200\n",
      "62/63 [============================>.] - ETA: 0s - loss: 1.1664 - root_mean_squared_error: 1.0800WARNING:tensorflow:Early stopping conditioned on metric `mse` which is not available. Available metrics are: loss,root_mean_squared_error,val_loss,val_root_mean_squared_error\n",
      "63/63 [==============================] - 0s 6ms/step - loss: 1.1662 - root_mean_squared_error: 1.0799 - val_loss: 1.7051 - val_root_mean_squared_error: 1.3058\n",
      "Epoch 186/200\n",
      "58/63 [==========================>...] - ETA: 0s - loss: 1.1535 - root_mean_squared_error: 1.0740WARNING:tensorflow:Early stopping conditioned on metric `mse` which is not available. Available metrics are: loss,root_mean_squared_error,val_loss,val_root_mean_squared_error\n",
      "63/63 [==============================] - 0s 6ms/step - loss: 1.1509 - root_mean_squared_error: 1.0728 - val_loss: 1.7152 - val_root_mean_squared_error: 1.3097\n",
      "Epoch 187/200\n",
      "58/63 [==========================>...] - ETA: 0s - loss: 1.1418 - root_mean_squared_error: 1.0685WARNING:tensorflow:Early stopping conditioned on metric `mse` which is not available. Available metrics are: loss,root_mean_squared_error,val_loss,val_root_mean_squared_error\n",
      "63/63 [==============================] - 0s 6ms/step - loss: 1.1368 - root_mean_squared_error: 1.0662 - val_loss: 1.7117 - val_root_mean_squared_error: 1.3083\n",
      "Epoch 188/200\n",
      "62/63 [============================>.] - ETA: 0s - loss: 1.1263 - root_mean_squared_error: 1.0613WARNING:tensorflow:Early stopping conditioned on metric `mse` which is not available. Available metrics are: loss,root_mean_squared_error,val_loss,val_root_mean_squared_error\n",
      "63/63 [==============================] - 0s 6ms/step - loss: 1.1266 - root_mean_squared_error: 1.0614 - val_loss: 1.7146 - val_root_mean_squared_error: 1.3094\n",
      "Epoch 189/200\n",
      "62/63 [============================>.] - ETA: 0s - loss: 1.1266 - root_mean_squared_error: 1.0614WARNING:tensorflow:Early stopping conditioned on metric `mse` which is not available. Available metrics are: loss,root_mean_squared_error,val_loss,val_root_mean_squared_error\n",
      "63/63 [==============================] - 0s 6ms/step - loss: 1.1273 - root_mean_squared_error: 1.0618 - val_loss: 1.7238 - val_root_mean_squared_error: 1.3129\n",
      "Epoch 190/200\n",
      "58/63 [==========================>...] - ETA: 0s - loss: 1.1313 - root_mean_squared_error: 1.0636WARNING:tensorflow:Early stopping conditioned on metric `mse` which is not available. Available metrics are: loss,root_mean_squared_error,val_loss,val_root_mean_squared_error\n",
      "63/63 [==============================] - 0s 6ms/step - loss: 1.1308 - root_mean_squared_error: 1.0634 - val_loss: 1.7275 - val_root_mean_squared_error: 1.3143\n",
      "Epoch 191/200\n",
      "58/63 [==========================>...] - ETA: 0s - loss: 1.1288 - root_mean_squared_error: 1.0625WARNING:tensorflow:Early stopping conditioned on metric `mse` which is not available. Available metrics are: loss,root_mean_squared_error,val_loss,val_root_mean_squared_error\n",
      "63/63 [==============================] - 0s 6ms/step - loss: 1.1273 - root_mean_squared_error: 1.0617 - val_loss: 1.7450 - val_root_mean_squared_error: 1.3210\n",
      "Epoch 192/200\n",
      "61/63 [============================>.] - ETA: 0s - loss: 1.1287 - root_mean_squared_error: 1.0624WARNING:tensorflow:Early stopping conditioned on metric `mse` which is not available. Available metrics are: loss,root_mean_squared_error,val_loss,val_root_mean_squared_error\n",
      "63/63 [==============================] - 0s 6ms/step - loss: 1.1281 - root_mean_squared_error: 1.0621 - val_loss: 1.7251 - val_root_mean_squared_error: 1.3134\n",
      "Epoch 193/200\n",
      "62/63 [============================>.] - ETA: 0s - loss: 1.1231 - root_mean_squared_error: 1.0598WARNING:tensorflow:Early stopping conditioned on metric `mse` which is not available. Available metrics are: loss,root_mean_squared_error,val_loss,val_root_mean_squared_error\n",
      "63/63 [==============================] - 0s 6ms/step - loss: 1.1232 - root_mean_squared_error: 1.0598 - val_loss: 1.7413 - val_root_mean_squared_error: 1.3196\n",
      "Epoch 194/200\n",
      "56/63 [=========================>....] - ETA: 0s - loss: 1.1229 - root_mean_squared_error: 1.0597WARNING:tensorflow:Early stopping conditioned on metric `mse` which is not available. Available metrics are: loss,root_mean_squared_error,val_loss,val_root_mean_squared_error\n",
      "63/63 [==============================] - 0s 7ms/step - loss: 1.1202 - root_mean_squared_error: 1.0584 - val_loss: 1.7316 - val_root_mean_squared_error: 1.3159\n",
      "Epoch 195/200\n",
      "61/63 [============================>.] - ETA: 0s - loss: 1.1230 - root_mean_squared_error: 1.0597WARNING:tensorflow:Early stopping conditioned on metric `mse` which is not available. Available metrics are: loss,root_mean_squared_error,val_loss,val_root_mean_squared_error\n",
      "63/63 [==============================] - 0s 6ms/step - loss: 1.1227 - root_mean_squared_error: 1.0596 - val_loss: 1.7469 - val_root_mean_squared_error: 1.3217\n",
      "Epoch 196/200\n",
      "61/63 [============================>.] - ETA: 0s - loss: 1.1217 - root_mean_squared_error: 1.0591WARNING:tensorflow:Early stopping conditioned on metric `mse` which is not available. Available metrics are: loss,root_mean_squared_error,val_loss,val_root_mean_squared_error\n",
      "63/63 [==============================] - 0s 6ms/step - loss: 1.1219 - root_mean_squared_error: 1.0592 - val_loss: 1.7590 - val_root_mean_squared_error: 1.3263\n",
      "Epoch 197/200\n",
      "61/63 [============================>.] - ETA: 0s - loss: 1.1336 - root_mean_squared_error: 1.0647WARNING:tensorflow:Early stopping conditioned on metric `mse` which is not available. Available metrics are: loss,root_mean_squared_error,val_loss,val_root_mean_squared_error\n",
      "63/63 [==============================] - 0s 6ms/step - loss: 1.1335 - root_mean_squared_error: 1.0646 - val_loss: 1.7389 - val_root_mean_squared_error: 1.3187\n",
      "Epoch 198/200\n",
      "54/63 [========================>.....] - ETA: 0s - loss: 1.1274 - root_mean_squared_error: 1.0618WARNING:tensorflow:Early stopping conditioned on metric `mse` which is not available. Available metrics are: loss,root_mean_squared_error,val_loss,val_root_mean_squared_error\n",
      "63/63 [==============================] - 0s 7ms/step - loss: 1.1363 - root_mean_squared_error: 1.0660 - val_loss: 1.7914 - val_root_mean_squared_error: 1.3384\n",
      "Epoch 199/200\n",
      "61/63 [============================>.] - ETA: 0s - loss: 1.1573 - root_mean_squared_error: 1.0758WARNING:tensorflow:Early stopping conditioned on metric `mse` which is not available. Available metrics are: loss,root_mean_squared_error,val_loss,val_root_mean_squared_error\n",
      "63/63 [==============================] - 0s 6ms/step - loss: 1.1565 - root_mean_squared_error: 1.0754 - val_loss: 1.7716 - val_root_mean_squared_error: 1.3310\n",
      "Epoch 200/200\n",
      "61/63 [============================>.] - ETA: 0s - loss: 1.1600 - root_mean_squared_error: 1.0771WARNING:tensorflow:Early stopping conditioned on metric `mse` which is not available. Available metrics are: loss,root_mean_squared_error,val_loss,val_root_mean_squared_error\n",
      "63/63 [==============================] - 0s 6ms/step - loss: 1.1573 - root_mean_squared_error: 1.0758 - val_loss: 1.7485 - val_root_mean_squared_error: 1.3223\n"
     ]
    }
   ],
   "source": [
    "es = EarlyStopping(monitor=model.loss, \n",
    "                                   mode='min', \n",
    "                                   patience=20,\n",
    "                                   restore_best_weights=True)\n",
    "\n",
    "history = model.fit(X_train,\n",
    "                    y_pt_train,\n",
    "                    callbacks=[es],\n",
    "                    epochs=200, \n",
    "                    batch_size=1024,\n",
    "                    validation_split=0.2,\n",
    "                    shuffle=True,\n",
    "                    verbose=1)\n",
    "\n"
   ]
  },
  {
   "cell_type": "code",
   "execution_count": 65,
   "id": "0bb4c82a-85d8-4e6c-9396-5ea7ec79e0c4",
   "metadata": {},
   "outputs": [
    {
     "data": {
      "image/png": "[encoded data removed]",
      "text/plain": [
       "<Figure size 432x288 with 1 Axes>"
      ]
     },
     "metadata": {
      "needs_background": "light"
     },
     "output_type": "display_data"
    }
   ],
   "source": [
    "history_dict = history.history\n",
    "loss_values = history_dict['loss'] \n",
    "val_loss_values = history_dict['val_loss'] \n",
    "epochs = range(1, len(loss_values) + 1) \n",
    "plt.plot(epochs, loss_values, 'bo', label='Training loss')\n",
    "plt.plot(epochs, val_loss_values, 'orange', label='Validation loss')\n",
    "plt.title('Training and validation loss')\n",
    "plt.xlabel('Epochs')\n",
    "plt.ylabel('Loss')\n",
    "plt.legend()\n",
    "plt.savefig('loss.png')"
   ]
  },
  {
   "cell_type": "code",
   "execution_count": 49,
   "id": "0c4da634-9a07-4808-93f1-afc1428c08d2",
   "metadata": {},
   "outputs": [
    {
     "data": {
      "image/png": "[encoded data removed]",
      "text/plain": [
       "<Figure size 432x288 with 1 Axes>"
      ]
     },
     "metadata": {
      "needs_background": "light"
     },
     "output_type": "display_data"
    }
   ],
   "source": [
    "acc = history.history['sparse_categorical_accuracy']\n",
    "val_acc = history.history['val_sparse_categorical_accuracy']\n",
    "epochs = range(1, len(acc) + 1)\n",
    "plt.plot(epochs, acc, 'bo', label='Training accuracy')\n",
    "plt.plot(epochs, val_acc, 'orange', label='Validation accuracy')\n",
    "plt.title('Training and validation accuracy')\n",
    "plt.xlabel('Epochs')\n",
    "plt.ylabel('Accuracy')\n",
    "plt.legend()\n",
    "#np.max(val_acc)\n",
    "plt.savefig('accuracy.png')\n",
    "plt.show()"
   ]
  },
  {
   "cell_type": "code",
   "execution_count": 50,
   "id": "5c43b821",
   "metadata": {},
   "outputs": [
    {
     "data": {
      "text/plain": [
       "(62820, 273)"
      ]
     },
     "execution_count": 50,
     "metadata": {},
     "output_type": "execute_result"
    }
   ],
   "source": [
    "X_test.shape"
   ]
  },
  {
   "cell_type": "code",
   "execution_count": 51,
   "id": "e952c461",
   "metadata": {},
   "outputs": [
    {
     "data": {
      "text/plain": [
       "(62820, 1)"
      ]
     },
     "execution_count": 51,
     "metadata": {},
     "output_type": "execute_result"
    }
   ],
   "source": [
    "y_test.shape"
   ]
  },
  {
   "cell_type": "code",
   "execution_count": 36,
   "id": "1378681c-a72c-4380-84bd-9fcf5b782038",
   "metadata": {},
   "outputs": [
    {
     "name": "stdout",
     "output_type": "stream",
     "text": [
      "1562/1562 [==============================] - 3s 2ms/step\n"
     ]
    }
   ],
   "source": [
    "preds = model.predict(X_test) \n",
    "predictionsFiles =np.argmax(preds, axis=1)"
   ]
  },
  {
   "cell_type": "code",
   "execution_count": 37,
   "id": "2efccd12",
   "metadata": {},
   "outputs": [
    {
     "data": {
      "text/plain": [
       "(array([ 5859.,     0.,     0.,     0.,     0., 23918.,     0.,     0.,\n",
       "            0., 20201.]),\n",
       " array([0. , 0.2, 0.4, 0.6, 0.8, 1. , 1.2, 1.4, 1.6, 1.8, 2. ]),\n",
       " <BarContainer object of 10 artists>)"
      ]
     },
     "execution_count": 37,
     "metadata": {},
     "output_type": "execute_result"
    },
    {
     "data": {
      "image/png": "[encoded data removed]",
      "text/plain": [
       "<Figure size 432x288 with 1 Axes>"
      ]
     },
     "metadata": {
      "needs_background": "light"
     },
     "output_type": "display_data"
    }
   ],
   "source": [
    "plt.hist(predictionsFiles)"
   ]
  },
  {
   "cell_type": "code",
   "execution_count": 38,
   "id": "091327bd-28ed-4570-8f00-9315e209bf7e",
   "metadata": {},
   "outputs": [],
   "source": [
    "#pd.DataFrame(predictionsFiles).to_csv(\"predictionsFiles.csv\",header='predict', index=False)"
   ]
  },
  {
   "cell_type": "code",
   "execution_count": 39,
   "id": "5fa23cc3-3f30-4cd4-85e5-ae6064869378",
   "metadata": {},
   "outputs": [],
   "source": [
    "#pd.DataFrame(y_test).to_csv(\"true.csv\",header='true', index=False)"
   ]
  },
  {
   "cell_type": "code",
   "execution_count": 40,
   "id": "caf53631-bfae-4276-9400-30bbf6bc5490",
   "metadata": {},
   "outputs": [
    {
     "name": "stdout",
     "output_type": "stream",
     "text": [
      "Test loss: 0.6537553668022156\n",
      "Test accuracy: 0.7426868081092834\n"
     ]
    }
   ],
   "source": [
    "score = model.evaluate(X_test, y_test, verbose=0)\n",
    "print(\"Test loss:\", score[0])\n",
    "print(\"Test accuracy:\", score[1])"
   ]
  },
  {
   "cell_type": "code",
   "execution_count": 41,
   "id": "9edf8385-5618-4176-aba4-f1fc0c459df7",
   "metadata": {},
   "outputs": [
    {
     "name": "stdout",
     "output_type": "stream",
     "text": [
      "Confusion matrix:\n",
      "[[ 4409  2335  1904]\n",
      " [  727 17153  2741]\n",
      " [  723  4430 15556]]\n"
     ]
    },
    {
     "data": {
      "image/png": "[encoded data removed]",
      "text/plain": [
       "<Figure size 432x288 with 2 Axes>"
      ]
     },
     "metadata": {
      "needs_background": "light"
     },
     "output_type": "display_data"
    }
   ],
   "source": [
    "from sklearn import datasets, svm, metrics\n",
    "disp = metrics.ConfusionMatrixDisplay.from_predictions(y_test, predictionsFiles)\n",
    "disp.figure_.suptitle(\"Multiclassifier Confusion Matrix\")\n",
    "print(f\"Confusion matrix:\\n{disp.confusion_matrix}\")\n",
    "plt.savefig('confusionMatrix.png')\n",
    "plt.show()"
   ]
  },
  {
   "cell_type": "code",
   "execution_count": 66,
   "id": "197f974f",
   "metadata": {},
   "outputs": [
    {
     "name": "stdout",
     "output_type": "stream",
     "text": [
      "29672/29672 [==============================] - 52s 2ms/step\n"
     ]
    }
   ],
   "source": [
    "preds_huge = model.predict(X_test_huge) \n",
    "predictionsFiles_huge =np.argmax(preds_huge, axis=1)"
   ]
  },
  {
   "cell_type": "code",
   "execution_count": 67,
   "id": "f2ff0880",
   "metadata": {},
   "outputs": [
    {
     "name": "stdout",
     "output_type": "stream",
     "text": [
      "Confusion matrix:\n",
      "[[ 84246  44037  37330]\n",
      " [ 13753 324394  53399]\n",
      " [ 13334  84451 294551]]\n"
     ]
    },
    {
     "data": {
      "image/png": "[encoded data removed]",
      "text/plain": [
       "<Figure size 432x288 with 2 Axes>"
      ]
     },
     "metadata": {
      "needs_background": "light"
     },
     "output_type": "display_data"
    }
   ],
   "source": [
    "disp = metrics.ConfusionMatrixDisplay.from_predictions(y_test_huge, predictionsFiles_huge)\n",
    "disp.figure_.suptitle(\"Multiclassifier Confusion Matrix\")\n",
    "print(f\"Confusion matrix:\\n{disp.confusion_matrix}\")\n",
    "plt.savefig('confusionMatrix.png')\n",
    "plt.show()"
   ]
  },
  {
   "cell_type": "code",
   "execution_count": 50,
   "id": "81aa2728",
   "metadata": {},
   "outputs": [],
   "source": [
    "from sklearn.metrics import RocCurveDisplay"
   ]
  },
  {
   "cell_type": "code",
   "execution_count": 51,
   "id": "3844a37f",
   "metadata": {},
   "outputs": [],
   "source": [
    "from sklearn.preprocessing import LabelBinarizer"
   ]
  },
  {
   "cell_type": "code",
   "execution_count": 53,
   "id": "14236a12",
   "metadata": {},
   "outputs": [],
   "source": [
    "def ROC_OvR(preds, labels):\n",
    "    classes = np.unique(labels)\n",
    "    n_classes = len(classes)\n",
    "\n",
    "    #go through each class to build a one-versus-rest ROC\n",
    "    scores = []\n",
    "    truth = []\n",
    "\n",
    "    for c in range(1, n_classes):\n",
    "        in_class = 1.0 *(labels == c)\n",
    "        score = preds[:,c]\n",
    "\n",
    "        scores.append(score)\n",
    "        truth.append(in_class)\n",
    "\n",
    "    scores = np.array(scores).ravel()\n",
    "    truth = np.array(truth).ravel()\n",
    "\n",
    "    return truth, scores\n"
   ]
  },
  {
   "cell_type": "code",
   "execution_count": 62,
   "id": "9a03374a",
   "metadata": {},
   "outputs": [],
   "source": [
    "t, s = ROC_OvR(preds, y_test)"
   ]
  },
  {
   "cell_type": "code",
   "execution_count": 63,
   "id": "b1518bf7",
   "metadata": {},
   "outputs": [
    {
     "data": {
      "text/plain": [
       "<sklearn.metrics._plot.roc_curve.RocCurveDisplay at 0x37c797250>"
      ]
     },
     "execution_count": 63,
     "metadata": {},
     "output_type": "execute_result"
    },
    {
     "data": {
      "image/png": "[encoded data removed]",
      "text/plain": [
       "<Figure size 432x288 with 1 Axes>"
      ]
     },
     "metadata": {
      "needs_background": "light"
     },
     "output_type": "display_data"
    }
   ],
   "source": [
    "RocCurveDisplay.from_predictions(\n",
    "    t,\n",
    "    s,\n",
    "    plot_chance_level=True\n",
    ")"
   ]
  },
  {
   "cell_type": "code",
   "execution_count": 68,
   "id": "43f32c68",
   "metadata": {},
   "outputs": [],
   "source": [
    "t2, s2 = ROC_OvR(preds_huge, y_test_huge)"
   ]
  },
  {
   "cell_type": "code",
   "execution_count": 69,
   "id": "b938f788",
   "metadata": {},
   "outputs": [
    {
     "data": {
      "text/plain": [
       "<sklearn.metrics._plot.roc_curve.RocCurveDisplay at 0x37c7a7eb0>"
      ]
     },
     "execution_count": 69,
     "metadata": {},
     "output_type": "execute_result"
    },
    {
     "data": {
      "image/png": "[encoded data removed]",
      "text/plain": [
       "<Figure size 432x288 with 1 Axes>"
      ]
     },
     "metadata": {
      "needs_background": "light"
     },
     "output_type": "display_data"
    }
   ],
   "source": [
    "RocCurveDisplay.from_predictions(\n",
    "    t2,\n",
    "    s2,\n",
    "    plot_chance_level=True\n",
    ")"
   ]
  },
  {
   "cell_type": "code",
   "execution_count": null,
   "id": "e9b1f2d1",
   "metadata": {},
   "outputs": [],
   "source": []
  },
  {
   "cell_type": "code",
   "execution_count": 110,
   "id": "b1a5edf1-6d90-4596-a678-bf043fb8e856",
   "metadata": {
    "tags": []
   },
   "outputs": [],
   "source": [
    "#model.save('my_model.keras')"
   ]
  },
  {
   "cell_type": "code",
   "execution_count": 111,
   "id": "376b3c33-d86d-4ea7-9d89-cfbaa99776b0",
   "metadata": {
    "tags": []
   },
   "outputs": [],
   "source": [
    "#model.save('my_model.h5')"
   ]
  },
  {
   "cell_type": "code",
   "execution_count": 22,
   "id": "afd7dfc7-b533-4f94-8e58-451637889f38",
   "metadata": {
    "tags": []
   },
   "outputs": [
    {
     "name": "stdout",
     "output_type": "stream",
     "text": [
      "112434/112434 - 87s - loss: 0.5151 - sparse_categorical_accuracy: 0.7878 - 87s/epoch - 778us/step\n",
      "Restored model, accuracy: 78.78%\n"
     ]
    }
   ],
   "source": [
    "#loss, acc = new_model.evaluate(X_test, y_test, verbose=2)\n",
    "#print('Restored model, accuracy: {:5.2f}%'.format(100 * acc))"
   ]
  },
  {
   "cell_type": "code",
   "execution_count": null,
   "id": "274f3895-5140-4d6c-b4ef-966d7e96d5dc",
   "metadata": {},
   "outputs": [],
   "source": []
  }
 ],
 "metadata": {
  "kernelspec": {
   "display_name": "tf",
   "language": "python",
   "name": "python3"
  },
  "language_info": {
   "codemirror_mode": {
    "name": "ipython",
    "version": 3
   },
   "file_extension": ".py",
   "mimetype": "text/x-python",
   "name": "python",
   "nbconvert_exporter": "python",
   "pygments_lexer": "ipython3",
   "version": "3.9.13"
  }
 },
 "nbformat": 4,
 "nbformat_minor": 5
}
